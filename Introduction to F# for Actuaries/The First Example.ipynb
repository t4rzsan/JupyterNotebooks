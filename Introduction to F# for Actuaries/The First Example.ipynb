{
 "cells": [
  {
   "cell_type": "markdown",
   "metadata": {},
   "source": [
    "# The First Example\n",
    "Usually you start off with a \"hello world\" example.  But \"hello world\" would be too boring in F# so let us start with something a little more interesting and fun.  In this first example we will create a dataset (i.e. an array) that we will group and sum and then finally show in a histogram."
   ]
  },
  {
   "cell_type": "code",
   "execution_count": 11,
   "metadata": {},
   "outputs": [
    {
     "data": {
      "text/html": [
       "<table><thead><tr><th><i>index</i></th><th>PersonId</th><th>PolicyNumber</th><th>Premium</th></tr></thead><tbody><tr><td>0</td><td>P1</td><td>Pol01</td><td>100</td></tr><tr><td>1</td><td>P1</td><td>Pol02</td><td>200</td></tr><tr><td>2</td><td>P2</td><td>Pol01</td><td>150</td></tr><tr><td>3</td><td>P3</td><td>Pol01</td><td>250</td></tr></tbody></table>"
      ]
     },
     "metadata": {},
     "output_type": "display_data"
    },
    {
     "data": {
      "text/plain": [
       "hi"
      ]
     },
     "metadata": {},
     "output_type": "display_data"
    }
   ],
   "source": [
    "type Policy = \n",
    "    {\n",
    "        PersonId: string;\n",
    "        PolicyNumber: string;\n",
    "        Premium: decimal;\n",
    "    }\n",
    "    \n",
    "let data = \n",
    "    [| \n",
    "        { PersonId = \"P1\"; PolicyNumber = \"Pol01\"; Premium = 100m };\n",
    "        { PersonId = \"P1\"; PolicyNumber = \"Pol02\"; Premium = 200m };\n",
    "        { PersonId = \"P2\"; PolicyNumber = \"Pol01\"; Premium = 150m };\n",
    "        { PersonId = \"P3\"; PolicyNumber = \"Pol01\"; Premium = 250m };\n",
    "    |]\n",
    "    \n",
    "display(data)\n",
    "\n"
   ]
  }
 ],
 "metadata": {
  "kernelspec": {
   "display_name": ".NET (F#)",
   "language": "F#",
   "name": ".net-fsharp"
  },
  "language_info": {
   "file_extension": ".fs",
   "mimetype": "text/x-fsharp",
   "name": "C#",
   "pygments_lexer": "fsharp",
   "version": "4.5"
  }
 },
 "nbformat": 4,
 "nbformat_minor": 2
}
