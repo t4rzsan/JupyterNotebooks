{
 "cells": [
  {
   "cell_type": "markdown",
   "metadata": {},
   "source": [
    "# The First Example\n",
    "Usually you start off with a \"hello world\" example.  But \"hello world\" would be too boring in F# so let us start with something a little more interesting and fun.  In this first example we will create a dataset (i.e. an array) that we will show in a histogram."
   ]
  },
  {
   "cell_type": "code",
   "execution_count": 36,
   "metadata": {},
   "outputs": [
    {
     "data": {
      "text/html": [
       "<table><thead><tr><th><i>index</i></th><th>PersonId</th><th>PolicyNumber</th><th>Premium</th></tr></thead><tbody><tr><td>0</td><td>P1</td><td>Pol01</td><td>100</td></tr><tr><td>1</td><td>P1</td><td>Pol02</td><td>200</td></tr><tr><td>2</td><td>P2</td><td>Pol03</td><td>150</td></tr><tr><td>3</td><td>P3</td><td>Pol04</td><td>250</td></tr><tr><td>4</td><td>P3</td><td>Pol05</td><td>350</td></tr></tbody></table>"
      ]
     },
     "metadata": {},
     "output_type": "display_data"
    }
   ],
   "source": [
    "type PersonPolicy = \n",
    "    {\n",
    "        PersonId: string;\n",
    "        PolicyNumber: string;\n",
    "        Premium: decimal;\n",
    "    }\n",
    "    \n",
    "let data = \n",
    "    [| \n",
    "        { PersonId = \"P1\"; PolicyNumber = \"Pol01\"; Premium = 100m };\n",
    "        { PersonId = \"P1\"; PolicyNumber = \"Pol02\"; Premium = 200m };\n",
    "        { PersonId = \"P2\"; PolicyNumber = \"Pol03\"; Premium = 150m };\n",
    "        { PersonId = \"P3\"; PolicyNumber = \"Pol04\"; Premium = 250m };\n",
    "        { PersonId = \"P3\"; PolicyNumber = \"Pol05\"; Premium = 350m };\n",
    "    |]\n",
    "    \n",
    "display(data)"
   ]
  },
  {
   "cell_type": "markdown",
   "metadata": {},
   "source": [
    "The `PersonPolicy` type describes how each row in our dataset will look like.  Each row has a person ID, a policy number and a premium.  This is similar to columns in a table as shown by the `display` command.  The value `data` is an array of persons where each person can have one or more policies.\n",
    "\n",
    "> Note that `display` is a built in function of Jupyter Notebook and is not part of F#.\n",
    "\n",
    "Let us draw a diagram.  We want a bar diagram with the policy number on one axis and the premium on the other.  That means we want to create data for the two axis from our existing `data` values.  F# has a built-in function for creating data or \"mapping\" data called `map`.  So we will use `Array.map` to create data for the diagram."
   ]
  },
  {
   "cell_type": "code",
   "execution_count": 37,
   "metadata": {},
   "outputs": [
    {
     "data": {
      "text/html": [
       "<table><thead><tr><th><i>index</i></th><th>Item1</th><th>Item2</th></tr></thead><tbody><tr><td>0</td><td>Pol01</td><td>100</td></tr><tr><td>1</td><td>Pol02</td><td>200</td></tr><tr><td>2</td><td>Pol03</td><td>150</td></tr><tr><td>3</td><td>Pol04</td><td>250</td></tr><tr><td>4</td><td>Pol05</td><td>350</td></tr></tbody></table>"
      ]
     },
     "metadata": {},
     "output_type": "display_data"
    }
   ],
   "source": [
    "let graphData = data |> Array.map (fun row -> row.PolicyNumber, row.Premium)\n",
    "\n",
    "display(graphData)"
   ]
  },
  {
   "cell_type": "markdown",
   "metadata": {},
   "source": [
    "Note the use of the \"pipe\" operator `|>`.  The pipe operator \"pipes\" data into a function.  We will get back to that later.  The part after the \"fun\" keyword is a function that tells `Array.map` that we want the policy number and the premium from each row.\n",
    "\n",
    "We are now ready to create the plot."
   ]
  },
  {
   "cell_type": "code",
   "execution_count": 38,
   "metadata": {
    "scrolled": true
   },
   "outputs": [
    {
     "data": {
      "text/html": [
       "<div id=\"ad7f4c94-74d0-4447-9fd6-840f528d266f\" style=\"width: 900px; height: 500px;\"></div>\r\n",
       "<script type=\"text/javascript\">\r\n",
       "\r\n",
       "var renderPlotly = function() {\r\n",
       "    var xplotRequire = requirejs.config({context:'xplot-3.0.1',paths:{plotly:'https://cdn.plot.ly/plotly-1.49.2.min'}});\r\n",
       "    xplotRequire(['plotly'], function(Plotly) {\r\n",
       "\n",
       "            var data = [{\"type\":\"bar\",\"x\":[100.0,200.0,150.0,250.0,350.0],\"y\":[\"Pol01\",\"Pol02\",\"Pol03\",\"Pol04\",\"Pol05\"],\"orientation\":\"h\",\"name\":\"Policies\"}];\n",
       "            var layout = \"\";\n",
       "            Plotly.newPlot('ad7f4c94-74d0-4447-9fd6-840f528d266f', data, layout);\n",
       "        \r\n",
       "});\r\n",
       "};\r\n",
       "if ((typeof(requirejs) !==  typeof(Function)) || (typeof(requirejs.config) !== typeof(Function))) { \r\n",
       "    var script = document.createElement(\"script\"); \r\n",
       "    script.setAttribute(\"src\", \"https://cdnjs.cloudflare.com/ajax/libs/require.js/2.3.6/require.min.js\"); \r\n",
       "    script.onload = function(){\r\n",
       "        renderPlotly();\r\n",
       "    };\r\n",
       "    document.getElementsByTagName(\"head\")[0].appendChild(script); \r\n",
       "}\r\n",
       "else {\r\n",
       "    renderPlotly();\r\n",
       "}\r\n",
       "</script>\r\n"
      ]
     },
     "execution_count": 38,
     "metadata": {},
     "output_type": "execute_result"
    }
   ],
   "source": [
    "[graphData]\n",
    "|> Chart.Bar\n",
    "|> Chart.WithLabels [\"Policies\"; \"Premiums\"]"
   ]
  },
  {
   "cell_type": "markdown",
   "metadata": {},
   "source": [
    "We want to group the data and sum the premium for for the policies for each person.  F# has a number of built-in functions for transforming data in an array.  Think of a function as a transformation where you input data and the function will output some other data built from the input.  You can also create your own functions.\n",
    "\n",
    "Let's start by creating a function that sums the premiums for an array of `PersonPolicy`.  We will use the function `Array.sumBy` to do that."
   ]
  },
  {
   "cell_type": "code",
   "execution_count": 39,
   "metadata": {},
   "outputs": [],
   "source": [
    "let sumPremium personPolicies =\n",
    "    personPolicies |> Array.sumBy (fun personPolicy -> personPolicy.Premium)"
   ]
  },
  {
   "cell_type": "code",
   "execution_count": 40,
   "metadata": {},
   "outputs": [
    {
     "data": {
      "text/html": [
       "<table><thead><tr><th><i>index</i></th><th>PersonId</th><th>TotalPremium</th></tr></thead><tbody><tr><td>0</td><td>P1</td><td>300</td></tr><tr><td>1</td><td>P2</td><td>150</td></tr><tr><td>2</td><td>P3</td><td>600</td></tr></tbody></table>"
      ]
     },
     "metadata": {},
     "output_type": "display_data"
    }
   ],
   "source": [
    "let groupedByPerson = \n",
    "    data\n",
    "    |> Array.groupBy (fun personPolicy -> personPolicy.PersonId)\n",
    "    |> Array.map (fun (personId, personPolicies) -> \n",
    "        {| \n",
    "            PersonId = personId; \n",
    "            TotalPremium = personPolicies |> Array.sumBy (fun personPolicy -> personPolicy.Premium) \n",
    "        |})\n",
    "    \n",
    "display(groupedByPerson)\n"
   ]
  }
 ],
 "metadata": {
  "kernelspec": {
   "display_name": ".NET (F#)",
   "language": "F#",
   "name": ".net-fsharp"
  },
  "language_info": {
   "file_extension": ".fs",
   "mimetype": "text/x-fsharp",
   "name": "C#",
   "pygments_lexer": "fsharp",
   "version": "4.5"
  }
 },
 "nbformat": 4,
 "nbformat_minor": 2
}
