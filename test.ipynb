{
 "cells": [
  {
   "cell_type": "markdown",
   "metadata": {},
   "source": [
    "# Hvordan gemmer man lange SQL statements i SQL?\n",
    "\n",
    "<img src=\"files/Images/new-notebook.PNG\">\n",
    "\n",
    "En måde at gemme lange stykker SQL kode i sit C# projekt, er at gemme dem som en ressource i selve projektet.  En ressource kan være en streng, en fil, et billede eller andet, som bliver \"embedded\" i ens .exe eller .dll fil, og man kan tilgå ressourcen fra kode.\n",
    "\n",
    "Først skal vi sikre os, at projektet har en ressource fil.  Højreklik på projektet i Solution Explorer i Visual Studio og vælg Properties.  I højre side er der et punkt, der hedder Resources.  Hvis projektet ikke har en ressource fil i forvejen, vil der være et link, hvor der står \"This project does not contain a default resources file. Click here to create one\".\n",
    "\n",
    "<img src=\"files/images/vs-add-ressource-file.png\">\n",
    "\n",
    "Når du klikker på linket, vil VS tilføje en ny fil kaldet Resources.resx i dit projekt.\n",
    "\n",
    "<img src=\"files/images/vs-ressources-file.PNG\">\n",
    "\n",
    "Næste trin er at lave dine SQL filer.  Man laver en fil pr. SQL statement og tilføjer til VS projektet.  Det er en god idé at placere filerne i en underfolder i projektet:\n",
    "\n",
    "1. Højre-klik på dit projekt i Solution Explorer og vælg Add -> New Folder.\n",
    "1. Kald den nye foldere SQL eller Ressources eller noget andet sigende.\n",
    "1. Højre-klik på folderen og vælge Add -> New Item.\n",
    "1. Søg efter \"text\" og vælg Text File.\n",
    "1. Indtast et navn for filen med .sql extension og tryk Add.\n",
    "\n",
    "    ![title](images/vs-add-sql-file.png)\n",
    "    <img src=\"files/images/vs-add-sql-file.png\" >\n",
    "        \n",
    "1. Skriv din SQL statement i den nye .sql fil og gem.\n",
    "1. Dobbelt-klik på din Resources.resx fil i Solution Explorer.\n",
    "1. Tryk på Add Resource knappen øverst og vælg Add Existing File fra dropdown menuen.\n",
    "\n",
    "    <img src=\"files/images/vs-ressources-add-file.PNG\" >\n",
    "\n",
    "1. Browse til din nye .sql fil og tilføj den.\n",
    "\n",
    "Når du gemmer Resource.resx vil VS lave lidt magi, som gør det meget nemt at få fat i SQL'en fra C#.  VS laver automatisk en Properties klasse, som man kan bruge:\n",
    "\n",
    "```C#\n",
    "var cmd = new SqlCommand(Properties.Resources.MySql, connection);\n",
    "```\n"
   ]
  }
 ],
 "metadata": {
  "kernelspec": {
   "display_name": "R",
   "language": "R",
   "name": "ir"
  },
  "language_info": {
   "codemirror_mode": "r",
   "file_extension": ".r",
   "mimetype": "text/x-r-source",
   "name": "R",
   "pygments_lexer": "r",
   "version": "3.4.0"
  }
 },
 "nbformat": 4,
 "nbformat_minor": 2
}
