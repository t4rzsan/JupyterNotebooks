{
 "cells": [
  {
   "cell_type": "markdown",
   "metadata": {},
   "source": [
    "# How to setup Jupyter\n",
    "This notebook describes how to install Jupyter Notebook on a Windows box.  The Jupyter is flaky so this is an attempt to put it all together in one place.\n",
    "\n",
    "# Installing Jupyter\n",
    "The easiest way too install Jupyter is through Anaconda.  Go to the Anaconda [download page](https://www.continuum.io/downloads) to install.\n",
    "\n",
    "After Anaconda has been installed, start Anaconda Navigator and launch Jupyter from there.  This will open a browser for an address similiar to http://localhost:8888 which shows you the home location of Jupyter on your system.  From here you can start new notebooks or edit existing ones.\n",
    "\n",
    "## Change the Jupyter startup folder\n",
    "By default Jupyter starts from the C:\\ root and it seems there is no way to go to another drive.  If you want Jupyter to start from another location, type the following into a cmd prompt:\n",
    "\n",
    "    jupyter notebook --generate-config\n",
    "\n",
    "This will generate a Jupyter config file for you.  Open the file in a text editor and change the line\n",
    "    #c.NotebookApp.notebook_dir = ''\n",
    "to\n",
    "    #c.NotebookApp.notebook_dir = 'd:\\my-directory'"
   ]
  }
 ],
 "metadata": {
  "kernelspec": {
   "display_name": "R",
   "language": "R",
   "name": "ir"
  },
  "language_info": {
   "codemirror_mode": "r",
   "file_extension": ".r",
   "mimetype": "text/x-r-source",
   "name": "R",
   "pygments_lexer": "r",
   "version": "3.4.0"
  }
 },
 "nbformat": 4,
 "nbformat_minor": 2
}
