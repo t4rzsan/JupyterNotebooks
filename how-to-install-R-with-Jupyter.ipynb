{
 "cells": [
  {
   "cell_type": "markdown",
   "metadata": {},
   "source": [
    "# How to install R with Jupyter\n",
    "This notebook describes how to install R with Jupyter Notebook on a Windows box.  The Jupyter is flaky so this is an attempt to put it all together in one place."
   ]
  },
  {
   "cell_type": "markdown",
   "metadata": {},
   "source": [
    "# Installing R\n",
    "First step is to install R from [CRAN](https://cran.r-project.org/bin/windows/base/) if it is not already installed.  Make sure that you install to a directory without spaces.  It seems the following may cause trouble if you for example install to \"c:\\program files\".\n",
    "\n",
    "Second step is to install [IRKernel](https://irkernel.github.io/) which is the R \"plugin\" for Jupyter.\n",
    "\n",
    "From the R console run the following two commands to install the necessary packages.\n",
    "\n",
    "    install.packages(c('repr', 'IRdisplay', 'evaluate', 'crayon', 'pbdZMQ', 'devtools', 'uuid', 'digest'))\n",
    "    devtools::install_github('IRkernel/IRkernel')\n",
    "\n",
    "Finally, install IRKernel with Jupyter.\n",
    "\n",
    "    IRkernel::installspec()\n",
    "    \n",
    "For some reason the IRKernel does not always register with Jupyter.  Instead you may want to try Anaconda R-Essentials which you can install from a cmd prompt.\n",
    "\n",
    "    conda install -c r r-essentials\n",
    "    \n",
    "## Testing R with Jupyter\n",
    "Now re-start Jupyter and click \"New -> R\".\n",
    "\n",
    "<img src=\"files/Images/new-notebook.PNG\">\n",
    "\n",
    "Create a new code block and paste in some R code to test.  When-ever you need a package, go to the normal R console and install it with install.package.\n",
    "\n",
    "Here is an example of some embedded R code blocks (first you need to install the \"ggplot\" package on your machine)."
   ]
  },
  {
   "cell_type": "code",
   "execution_count": 1,
   "metadata": {
    "collapsed": false
   },
   "outputs": [
    {
     "ename": "ERROR",
     "evalue": "Error in library(ggplot2): there is no package called 'ggplot2'\n",
     "output_type": "error",
     "traceback": [
      "Error in library(ggplot2): there is no package called 'ggplot2'\nTraceback:\n",
      "1. library(ggplot2)",
      "2. stop(txt, domain = NA)"
     ]
    }
   ],
   "source": [
    "library(ggplot2)"
   ]
  },
  {
   "cell_type": "code",
   "execution_count": null,
   "metadata": {
    "collapsed": true
   },
   "outputs": [],
   "source": [
    "mtcars$gear <- factor(mtcars$gear,levels=c(3,4,5),\n",
    "  \tlabels=c(\"3gears\",\"4gears\",\"5gears\")) \n",
    "mtcars$am <- factor(mtcars$am,levels=c(0,1),\n",
    "  \tlabels=c(\"Automatic\",\"Manual\")) \n",
    "mtcars$cyl <- factor(mtcars$cyl,levels=c(4,6,8),\n",
    "   labels=c(\"4cyl\",\"6cyl\",\"8cyl\"))"
   ]
  },
  {
   "cell_type": "code",
   "execution_count": null,
   "metadata": {
    "collapsed": false
   },
   "outputs": [],
   "source": [
    "qplot(mpg, data=mtcars, geom=\"density\", fill=gear, alpha=I(.5), \n",
    "   main=\"Distribution of Gas Milage\", xlab=\"Miles Per Gallon\", \n",
    "   ylab=\"Density\")"
   ]
  }
 ],
 "metadata": {
  "kernelspec": {
   "display_name": "R",
   "language": "R",
   "name": "ir"
  },
  "language_info": {
   "codemirror_mode": "r",
   "file_extension": ".r",
   "mimetype": "text/x-r-source",
   "name": "R",
   "pygments_lexer": "r",
   "version": "3.4.0"
  }
 },
 "nbformat": 4,
 "nbformat_minor": 2
}
