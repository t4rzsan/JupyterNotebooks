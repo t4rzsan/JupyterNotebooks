{
 "cells": [
  {
   "cell_type": "markdown",
   "metadata": {},
   "source": [
    "### Print-hack (spring over)\n",
    "\n",
    "Først laver vi først et lille hack ved at lave en `Print` funktion, som kan udskrive resultater i Jupyter Notebook.  Det skal du ikke gøre i din kode i Visual Studio."
   ]
  },
  {
   "cell_type": "code",
   "execution_count": 1,
   "metadata": {
    "collapsed": false
   },
   "outputs": [],
   "source": [
    "string Print(object output)\n",
    "{\n",
    "    return output.ToString();\n",
    "}"
   ]
  },
  {
   "cell_type": "markdown",
   "metadata": {},
   "source": [
    "Vi kan bruge Print til at udskrive diverse ting."
   ]
  },
  {
   "cell_type": "code",
   "execution_count": 2,
   "metadata": {
    "collapsed": false,
    "scrolled": true
   },
   "outputs": [
    {
     "data": {
      "text/html": [
       "<font style=\"color:Black\">Hej med dig!\r\n",
       "</font>"
      ],
      "text/plain": [
       "Hej med dig!\r\n"
      ]
     },
     "execution_count": 2,
     "metadata": {},
     "output_type": "execute_result"
    }
   ],
   "source": [
    "Print(\"Hej med dig!\");"
   ]
  },
  {
   "cell_type": "markdown",
   "metadata": {},
   "source": [
    "# Indlæsning af filer i C#\n",
    "Der er flere måder at indlæse filer på i C#.  Herunder finder du en beskrivelse af, hvordan man kan indlæse en tekstfil en linje ad gangen.\n",
    "\n",
    "## StreamReader\n",
    ".NET tilbyder flere klasser til filhåndtering.  Den klasse, vi skal bruge, hedder [`StreamReader`][1] og findes i det namespace, der hedder `System.IO`.  Start derfor med at inkludere `System.IO` øverst i din .cs fil.\n",
    "\n",
    "[1]: https://msdn.microsoft.com/en-us/library/system.io.streamreader(v=vs.110).aspx\n"
   ]
  },
  {
   "cell_type": "code",
   "execution_count": 3,
   "metadata": {
    "collapsed": true
   },
   "outputs": [],
   "source": [
    "using System.IO;"
   ]
  },
  {
   "cell_type": "markdown",
   "metadata": {},
   "source": [
    "Lad os starte med at oprette en `StreamReader`.  Her skal du angive stien til den fil, som du vil indlæse.  Samtidig er det en god idé at angive encoding, så danske bogstaver og andre sjove tegn bliver indlæst korrekt.\n",
    "\n",
    "Når man indlæser en fil, låser Windows filen samtidig.  Der skal du huske at frigive filen, når du er færdig med den.  `StreamReader` har en funktion, der hedder `Dispose`, som frigiver filen.  `Dispose` er defineret på et interface, der hedder `IDisposable`.  Når en klasse gør det, kan man putte objektet inden i en `using` blok, og `Dispose` vil så blive kaldt automatisk.\n",
    "\n",
    "Når filen er åbnet, kan du læse en linje ad gangen med funktionen `ReadLine`.  Samtidig skal du bruge en anden funktion kaldet `Peek` til hele tiden at sikre, at du ikke har nået slutningen af filen.  `Peek` returner -1, hvis man er nået til slutningen af filen.\n",
    "\n",
    "Det hele ser således ud."
   ]
  },
  {
   "cell_type": "code",
   "execution_count": 4,
   "metadata": {
    "collapsed": false
   },
   "outputs": [
    {
     "data": {
      "text/html": [
       "<font style=\"color:Black\">Antal linjer: 4\r\n",
       "</font>"
      ],
      "text/plain": [
       "Antal linjer: 4\r\n"
      ]
     },
     "execution_count": 4,
     "metadata": {},
     "output_type": "execute_result"
    }
   ],
   "source": [
    "var linjer = new List<string>();\n",
    "using (var reader = new StreamReader(\"biler.csv\", Encoding.Default))\n",
    "{\n",
    "    while (reader.Peek() > -1)\n",
    "    {\n",
    "        var linje = reader.ReadLine();\n",
    "        linjer.Add(linje);\n",
    "    }\n",
    "}\n",
    "\n",
    "Print(\"Antal linjer: \" + linjer.Count);\n"
   ]
  },
  {
   "cell_type": "markdown",
   "metadata": {},
   "source": [
    "Ovenfor tilføjede du teksten fra hver linje til en liste af strenge (`List<string>`), men i den virkelige verden vil man gerne kunne bruge den indlæste fil til noget fornuftigt.  Indholdet af filen ser således ud.\n",
    "\n",
    "Id;Navn;Bilmærke  \n",
    "1;Lasse;Renault  \n",
    "2;Marcus;Chevrolet  \n",
    "3;Per;Audi  \n",
    "\n",
    "Her har vi fat i en komma-separeret fil (med semikolon som separatator).  For at bruge sådan en fil fornuftigt, vil vi skulle springe overskriften over og splitte linjer ved semikolon.  CSV-filer kommer i alle afskygninger, så derfor har vi i AT lavet en generel klasse, som er god til netop det, kaldet `CsvReader`.\n",
    "\n",
    "## CsvReader\n",
    "`CsvReader` er del af en større pakke, som ligger i AT's Nuget feed (spørg Jakob).  I dette dokument kan vi ikke bruge Nuget, så vi indlæser dll'en med CsvReader manuelt (det skal du ikke gøre i din kode).\n"
   ]
  },
  {
   "cell_type": "code",
   "execution_count": 5,
   "metadata": {
    "collapsed": false
   },
   "outputs": [],
   "source": [
    "// Gør ikke dette i Visual Studio!\n",
    "#r \"AP.Core.dll\" "
   ]
  },
  {
   "cell_type": "markdown",
   "metadata": {},
   "source": [
    "Tilføj derefter det namespace, som `CsvReader` ligger i."
   ]
  },
  {
   "cell_type": "code",
   "execution_count": 6,
   "metadata": {
    "collapsed": true
   },
   "outputs": [],
   "source": [
    "using AP.FilImport.FilVaerktoejer;"
   ]
  },
  {
   "cell_type": "markdown",
   "metadata": {},
   "source": [
    "Før vi tager `CsvReader` i brug, skal vi først lave en klasse, som vi kan bruge til at holde det data, vi indlæser fra filen.  Dvs. vi skal have en klasse, som kan holde id, navn og bilmærke."
   ]
  },
  {
   "cell_type": "code",
   "execution_count": 7,
   "metadata": {
    "collapsed": true
   },
   "outputs": [],
   "source": [
    "public class Bil\n",
    "{\n",
    "    public Bil(int id, string navn, string bilmærke)\n",
    "    {\n",
    "        this.Id = id;\n",
    "        this.Navn = navn;\n",
    "        this.Bilmærke = bilmærke;\n",
    "    }\n",
    "    \n",
    "    public int Id { get; private set; }\n",
    "    \n",
    "    public string Navn { get; private set; }\n",
    "    \n",
    "    public string Bilmærke { get; private set; }\n",
    "}"
   ]
  },
  {
   "cell_type": "markdown",
   "metadata": {},
   "source": [
    "Med den nye Bil-klasse, er du nu klar til at bruge `CsvReader`.  Det svarer meget til at bruge `StreamReader`, men du har f.eks. mulighed for at angive separator og bruge overskrifterne i CSV-filen.  Du kan også springe nogle linjer i starten af filen over, hvis det er nødvendigt."
   ]
  },
  {
   "cell_type": "code",
   "execution_count": 8,
   "metadata": {
    "collapsed": false
   },
   "outputs": [
    {
     "data": {
      "text/html": [
       "<font style=\"color:Black\">Antal biler: 3\r\n",
       "</font>"
      ],
      "text/plain": [
       "Antal biler: 3\r\n"
      ]
     },
     "execution_count": 8,
     "metadata": {},
     "output_type": "execute_result"
    }
   ],
   "source": [
    "// Opret liste af biler til at holde de biler, vi indlæser.\n",
    "var biler = new List<Bil>();\n",
    "using (var reader = new CsvReader(\"biler.csv\", skipNumberOfLines: 0, firstLineContainsColumnNames: true))\n",
    "{\n",
    "    while (reader.Read())\n",
    "    {\n",
    "        var bil = new Bil(\n",
    "            Convert.ToInt32(reader[\"Id\"]),\n",
    "            reader[\"Navn\"],\n",
    "            reader[\"Bilmærke\"]\n",
    "        );\n",
    "        \n",
    "        biler.Add(bil);\n",
    "    }\n",
    "}\n",
    "\n",
    "Print(\"Antal biler: \" + biler.Count);"
   ]
  },
  {
   "cell_type": "code",
   "execution_count": 9,
   "metadata": {
    "collapsed": false
   },
   "outputs": [
    {
     "data": {
      "text/html": [
       "<font style=\"color:Black\">Lasse&#39;s bil er en Renault.\r\n",
       "</font>"
      ],
      "text/plain": [
       "Lasse's bil er en Renault.\r\n"
      ]
     },
     "execution_count": 9,
     "metadata": {},
     "output_type": "execute_result"
    }
   ],
   "source": [
    "Print($\"{biler[0].Navn}'s bil er en {biler[0].Bilmærke}.\");"
   ]
  }
 ],
 "metadata": {
  "kernelspec": {
   "display_name": "C#",
   "language": "csharp",
   "name": "csharp"
  },
  "language_info": {
   "name": "C#",
   "version": "0...0...1"
  }
 },
 "nbformat": 4,
 "nbformat_minor": 2
}
