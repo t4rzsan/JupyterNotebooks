{
 "cells": [
  {
   "cell_type": "markdown",
   "metadata": {},
   "source": [
    "# \"Getting started\" #\n",
    "## Udviklingsmiljø ##\n",
    "Som det første skal du have opsat et udviklingsmiljø, hvor du kan kode og kompilere din F# kode. De to mest anvendte udviklingsmiljøer er Visual Studio (VS) og Visual Studio Code (VS Code).  Begge er udviklet af Microsoft.  AP har licens til VS, mens VS Code er gratis.  Vi vil bruge VS i dette notat, for det er det samme miljø, som vi bruger til C#.\n",
    "\n",
    "For at bruge F# i VS, skal du sørge for at tilvælge det, når du installerer VS (det kan også tilvælges senere).  I installationen skal du tilvælge \"Data science and analytical applications\".\n",
    "\n",
    "<img src=\"files/Images/vs-fsharp-installer.PNG\">\n",
    "![TEST](files/Images/vs-fsharp-installer.PNG)\n",
    "\n",
    "## Projekttyper ##\n",
    "Man kan bruge F# på to forskellige måder: \n",
    "\n",
    "1. Som et projekt, hvor flere F# kode-filer kompileres til en .exe fil, der kan køres på din computer.\n",
    "1. Som en eller flere script filer, som man kører løbende.  Det svarer til den måde, man bruger SQL og R.\n",
    "\n",
    "I det følgende vil du komme til at bruge metode 2 med script filer (også kaldet .fsx filer).\n",
    "\n",
    "I VS kan man altid markere et stykke F# kode og trykke Alt+Enter.  Det vil afvikle den markerede kode i det såkaldte\n",
    "F# Interactive vindue i VS, hvilket er smart til hurtigt at teste, om det virker, det man sidder og laver.\n",
    "\n",
    "## Hello, world! ##\n",
    "I VS klik FILE -> New -> File og søg efter F#.  Lav en ny F# Script fil.\n",
    "\n",
    "<img src=\"files/Images/vs-fsharp-new-file.png\">\n",
    "\n",
    "Øverst i filen skriver du:"
   ]
  },
  {
   "cell_type": "code",
   "execution_count": 76,
   "metadata": {
    "collapsed": false
   },
   "outputs": [
    {
     "data": {
      "text/plain": [
       "Hello, world!\r\n"
      ]
     },
     "metadata": {},
     "output_type": "display_data"
    }
   ],
   "source": [
    "printfn \"Hello, world!\""
   ]
  },
  {
   "cell_type": "markdown",
   "metadata": {},
   "source": [
    "Marker teksten og tryk Alt+Enter.  Koden bliver nu sendt til F# Interactive vinduet nederst i VS og bliver afviklet.  Du vil kunne se, at teksten \"Hello, world!\" bliver skrevet ud:\n",
    "\n",
    "<img src=\"files/Images/vs-fsharp-hello-world.png\" >\n",
    "\n",
    "Så nemt er det at lave et program i F#.  Man behøver ikke en masse klasser, typer, metoder eller noget for at komme i gang."
   ]
  },
  {
   "cell_type": "markdown",
   "metadata": {},
   "source": [
    "# F# konstruktioner #\n",
    "## Variable\n",
    "Du definerer en variabel med `let`:"
   ]
  },
  {
   "cell_type": "code",
   "execution_count": 77,
   "metadata": {
    "collapsed": true
   },
   "outputs": [],
   "source": [
    "let a = 0\n",
    "let b = 4"
   ]
  },
  {
   "cell_type": "markdown",
   "metadata": {},
   "source": [
    "F# vil selv forsøge at gætte typen på dine variable.  Hvis det ikke går godt, kan man hjælpe F# på vej ved at angive typen:"
   ]
  },
  {
   "cell_type": "code",
   "execution_count": 78,
   "metadata": {
    "collapsed": false
   },
   "outputs": [],
   "source": [
    "let c: float = 2.0"
   ]
  },
  {
   "cell_type": "markdown",
   "metadata": {},
   "source": [
    "Ordet \"variabel\" er noget misvisende, for som udgangspunkt kan en variabel ikke ændre sig, efter du først har defineret den.  Man siger, at en variabel er \"immutable\".  Det giver stor sikkerhed i koden, fordi to parter ikke kan komme til at ændre en værdi samtidig.  F.eks. giver følgende en fejl:"
   ]
  },
  {
   "cell_type": "code",
   "execution_count": 79,
   "metadata": {
    "collapsed": false
   },
   "outputs": [
    {
     "name": "stderr",
     "output_type": "stream",
     "text": [
      "This value is not mutable. Consider using the mutable keyword, e.g. 'let mutable c = expression'."
     ]
    }
   ],
   "source": [
    "c <- 4.3"
   ]
  },
  {
   "cell_type": "markdown",
   "metadata": {},
   "source": [
    "Hvis du virkelig har brug for det (men prøv at undgå det), kan du definere en mutable variabel:"
   ]
  },
  {
   "cell_type": "code",
   "execution_count": 80,
   "metadata": {
    "collapsed": false
   },
   "outputs": [
    {
     "data": {
      "text/plain": [
       "5\r\n",
       "7\r\n"
      ]
     },
     "metadata": {},
     "output_type": "display_data"
    }
   ],
   "source": [
    "let mutable myMutable = 5\n",
    "printfn \"%d\" myMutable\n",
    "myMutable <- 7\n",
    "printfn \"%d\" myMutable"
   ]
  },
  {
   "cell_type": "markdown",
   "metadata": {},
   "source": [
    "## Funktioner ##\n",
    "Lad os prøve noget mere sexet, nemlig funktioner.  Man kommer ikke langt uden funktioner af en eller anden slags.\n",
    "\n",
    "Følgende er en funktion, der lægger 2 og 3 sammen:"
   ]
  },
  {
   "cell_type": "code",
   "execution_count": 81,
   "metadata": {
    "collapsed": false
   },
   "outputs": [
    {
     "data": {
      "text/plain": [
       "5"
      ]
     },
     "execution_count": 81,
     "metadata": {},
     "output_type": "execute_result"
    }
   ],
   "source": [
    "let add2og3 () =\n",
    "    2 + 3\n",
    "    \n",
    "add2og3()"
   ]
  },
  {
   "cell_type": "markdown",
   "metadata": {},
   "source": [
    "Bemærk at i F# er der ingen tuborg-parenteser eller semikolonner.  I F# bruger man i stedet indrykning til at afgrænse blokke.  Vores `add2og3` funktion er ikke specielt anvendelig, så lad os tilføje nogle parametre i stedet for at hardcode tallene."
   ]
  },
  {
   "cell_type": "code",
   "execution_count": 82,
   "metadata": {
    "collapsed": false
   },
   "outputs": [
    {
     "data": {
      "text/plain": [
       "5"
      ]
     },
     "execution_count": 82,
     "metadata": {},
     "output_type": "execute_result"
    }
   ],
   "source": [
    "let add a b = \n",
    "    a + b\n",
    "    \n",
    "add 2 3"
   ]
  },
  {
   "cell_type": "markdown",
   "metadata": {},
   "source": [
    "Igen får vi 5, hvilket ikke er så galt.  Bemærk at parenteser og kommaer ikke bruges til parametrene.  Bemærk også følgende linje i F# Interactive:\n",
    "\n",
    "```\n",
    "val add : a:int -> b:int -> int\n",
    "```\n",
    "\n",
    "Denne lidt mystiske beskrivelse af `add` fortæller, at F# gætter på, at `a` og `b` er integers, og at funktionen returnerer en integer.  Dette kaldes \"signaturen\" af funktionen.\n",
    "\n",
    "Men hvorfor skriver F# det på den mærkelige måde med \"->\" imellem?  \n",
    "\n",
    "Svaret er, at for F# findes der kun funktioner, der tager én parameter.  Dvs. når vi skriver en funktion som `add`, der tager to parametre, opfatter F# det som to funktioner inden i hinanden, som hver tager én parameter.  Det kaldes \"currying\".  Det betyder også, at man kan lave nye funktioner ud fra andre funktioner, ved at \"hardcode\" parametrene.\n",
    "\n",
    "Tag f.eks. en funktion, der beregner det lineære udtryk\n",
    "$$ f(x) = a + b \\cdot x $$"
   ]
  },
  {
   "cell_type": "code",
   "execution_count": 83,
   "metadata": {
    "collapsed": false
   },
   "outputs": [],
   "source": [
    "let f a b x =\n",
    "    a + b * x"
   ]
  },
  {
   "cell_type": "markdown",
   "metadata": {},
   "source": [
    "Læg mærke til hvor tæt F# funktionen ligger op af det matematiske udtryk, hvilket er en af grundene til, at F# er populært i den finansielle branche og blandt data scientists.\n",
    "\n",
    "Signaturen på funtionen `f` fortæller, at F# opfatter alle 3 parametre som integers, og at det i virkelighen er 3 funktioner efter hinanden:\n",
    "\n",
    "`val f : a:int -> b:int -> x:int -> int`\n",
    "\n",
    "Lad os sige, at du ved, at du ofte vil skulle bruge en linje beskrevet ved `a = 3` og `b = 2`.  Du er træt af at skulle skrive `f 3 2 30` hele tiden, og der er en vis risiko for fejl.  Men heldigvis kender du til currying, så du definerer nemt en ny funktion ud fra den gamle:"
   ]
  },
  {
   "cell_type": "code",
   "execution_count": 84,
   "metadata": {
    "collapsed": true
   },
   "outputs": [],
   "source": [
    "let f3og2 = f 3 2 "
   ]
  },
  {
   "cell_type": "markdown",
   "metadata": {},
   "source": [
    "Signaturen for f3og2 viser, at vi har defineret en ny funktion, der tager en enkelt integer som parameter, og at resultatet er en integer.  \n",
    "\n",
    "```\n",
    "val f3og2 : (int -> int)\n",
    "```\n",
    "\n",
    "Den nye funktion benyttes på normal vis.  De følgende to udtryk er ækvivalente:"
   ]
  },
  {
   "cell_type": "code",
   "execution_count": 85,
   "metadata": {
    "collapsed": false
   },
   "outputs": [
    {
     "data": {
      "text/plain": [
       "63\r\n",
       "63\r\n"
      ]
     },
     "metadata": {},
     "output_type": "display_data"
    }
   ],
   "source": [
    "printfn \"%d\" (f 3 2 30)\n",
    "printfn \"%d\" (f3og2 30)"
   ]
  }
 ],
 "metadata": {
  "celltoolbar": "Raw Cell Format",
  "kernelspec": {
   "display_name": "F#",
   "language": "fsharp",
   "name": "ifsharp"
  },
  "language": "fsharp",
  "language_info": {
   "codemirror_mode": "",
   "file_extension": ".fs",
   "mimetype": "text/x-fsharp",
   "name": "fsharp",
   "nbconvert_exporter": "",
   "pygments_lexer": "",
   "version": "4.3.1.0"
  }
 },
 "nbformat": 4,
 "nbformat_minor": 2
}
