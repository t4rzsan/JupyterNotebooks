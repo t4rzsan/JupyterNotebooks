{
 "cells": [
  {
   "cell_type": "markdown",
   "metadata": {},
   "source": [
    "### Print-hack (spring over)\n",
    "\n",
    "Først laver vi først et lille hack ved at lave en `Print` funktion, som kan udskrive resultater i Jupyter Notebook.  Det skal du ikke gøre i din kode i Visual Studio."
   ]
  },
  {
   "cell_type": "code",
   "execution_count": 17,
   "metadata": {
    "collapsed": false
   },
   "outputs": [],
   "source": [
    "string Print(object output)\n",
    "{\n",
    "    return output.ToString();\n",
    "}"
   ]
  },
  {
   "cell_type": "markdown",
   "metadata": {},
   "source": [
    "Vi kan bruge Print til at udskrive diverse ting."
   ]
  },
  {
   "cell_type": "code",
   "execution_count": 18,
   "metadata": {
    "collapsed": false,
    "scrolled": true
   },
   "outputs": [
    {
     "data": {
      "text/html": [
       "<font style=\"color:Black\">Hej med dig!\r\n",
       "</font>"
      ],
      "text/plain": [
       "Hej med dig!\r\n"
      ]
     },
     "execution_count": 18,
     "metadata": {},
     "output_type": "execute_result"
    }
   ],
   "source": [
    "Print(\"Hej med dig!\");"
   ]
  },
  {
   "cell_type": "markdown",
   "metadata": {},
   "source": [
    "# Indlæsning af filer i C#\n",
    "Der er flere måder at indlæse filer på i C#.  Herunder finder du en beskrivelse af, hvordan man kan indlæse en tekstfil en linje ad gangen.\n",
    "\n",
    "## StreamReader\n",
    ".NET tilbyder flere klasser til filhåndtering.  Den klasse, vi skal bruge, hedder [`StreamReader`][1] og findes i det namespace, der hedder `System.IO`.  Start derfor med at inkludere `System.IO` øverst i din .cs fil.\n",
    "\n",
    "[1]: https://msdn.microsoft.com/en-us/library/system.io.streamreader(v=vs.110).aspx\n"
   ]
  },
  {
   "cell_type": "code",
   "execution_count": 19,
   "metadata": {
    "collapsed": true
   },
   "outputs": [],
   "source": [
    "using System.IO;"
   ]
  },
  {
   "cell_type": "markdown",
   "metadata": {},
   "source": [
    "Lad os starte med at oprette en `StreamReader`.  Her skal du angive stien til den fil, som du vil indlæse.  Samtidig er det en god idé at angive encoding, så danske bogstaver og andre sjove tegn bliver indlæst korrekt.\n",
    "\n",
    "Når man indlæser en fil, låser Windows filen samtidig.  Der skal du huske at frigive filen, når du er færdig med den.  `StreamReader` har en funktion, der hedder `Dispose`, som frigiver filen.  `Dispose` er defineret på et interface, der hedder `IDisposable`.  Når en klasse gør det, kan man putte objektet inden i en `using` blok, og `Dispose` vil så blive kaldt automatisk.\n",
    "\n",
    "Når filen er åbnet, kan du læse en linje ad gangen med funktionen `ReadLine`.  Samtidig skal du bruge en anden funktion kaldet `Peek` til hele tiden at sikre, at du ikke har nået slutningen af filen.  `Peek` returner -1, hvis man er nået til slutningen af filen.\n",
    "\n",
    "Det hele ser således ud."
   ]
  },
  {
   "cell_type": "code",
   "execution_count": 20,
   "metadata": {
    "collapsed": false
   },
   "outputs": [
    {
     "data": {
      "text/html": [
       "<font style=\"color:Black\">Antal linjer: 4\r\n",
       "</font>"
      ],
      "text/plain": [
       "Antal linjer: 4\r\n"
      ]
     },
     "execution_count": 20,
     "metadata": {},
     "output_type": "execute_result"
    }
   ],
   "source": [
    "var linjer = new List<string>();\n",
    "using (var reader = new StreamReader(\"biler.csv\", Encoding.Default))\n",
    "{\n",
    "    while (reader.Peek() > -1)\n",
    "    {\n",
    "        var linje = reader.ReadLine();\n",
    "        linjer.Add(linje);\n",
    "    }\n",
    "}\n",
    "\n",
    "Print(\"Antal linjer: \" + linjer.Count);\n"
   ]
  },
  {
   "cell_type": "markdown",
   "metadata": {},
   "source": [
    "Ovenfor tilføjede du teksten fra hver linje til en liste af strenge (`List<string>`), men i den virkelige verden vil man gerne kunne bruge den indlæste fil til noget fornuftigt.  Indholdet af filen ser således ud.\n",
    "\n",
    "Id;Navn;Bilmærke  \n",
    "1;Lasse;Renault  \n",
    "2;Marcus;Chevrolet  \n",
    "3;Per;Audi  \n",
    "\n",
    "Her har vi fat i en komma-separeret fil (med semikolon som separatator).  For at bruge sådan en fil fornuftigt, vil vi skulle springe overskriften over og splitte linjer ved semikolon.  CSV-filer kommer i alle afskygninger, så derfor har vi i AT lavet en generel klasse, som er god til netop det, kaldet `CsvReader`.\n",
    "\n",
    "## CsvReader\n",
    "`CsvReader` er del af en større pakke, som ligger i AT's Nuget feed (spørg Jakob).  I dette dokument kan vi ikke bruge Nuget, så vi indlæser dll'en med CsvReader manuelt (det skal du ikke gøre i din kode).\n"
   ]
  },
  {
   "cell_type": "code",
   "execution_count": 21,
   "metadata": {
    "collapsed": false
   },
   "outputs": [],
   "source": [
    "// Gør ikke dette i Visual Studio!\n",
    "#r \"AP.Core.dll\" "
   ]
  },
  {
   "cell_type": "markdown",
   "metadata": {},
   "source": [
    "Tilføj derefter det namespace, som `CsvReader` ligger i."
   ]
  },
  {
   "cell_type": "code",
   "execution_count": 22,
   "metadata": {
    "collapsed": true
   },
   "outputs": [],
   "source": [
    "using AP.FilImport.FilVaerktoejer;"
   ]
  },
  {
   "cell_type": "markdown",
   "metadata": {},
   "source": [
    "Før vi tager `CsvReader` i brug, skal vi først lave en klasse, som vi kan bruge til at holde det data, vi indlæser fra filen.  Dvs. vi skal have en klasse, som kan holde id, navn og bilmærke."
   ]
  },
  {
   "cell_type": "code",
   "execution_count": 23,
   "metadata": {
    "collapsed": true
   },
   "outputs": [],
   "source": [
    "public class Bil\n",
    "{\n",
    "    public Bil(int id, string navn, string bilmærke)\n",
    "    {\n",
    "        this.Id = id;\n",
    "        this.Navn = navn;\n",
    "        this.Bilmærke = bilmærke;\n",
    "    }\n",
    "    \n",
    "    public int Id { get; private set; }\n",
    "    \n",
    "    public string Navn { get; private set; }\n",
    "    \n",
    "    public string Bilmærke { get; private set; }\n",
    "}"
   ]
  },
  {
   "cell_type": "markdown",
   "metadata": {},
   "source": [
    "Med den nye Bil-klasse, er du nu klar til at bruge `CsvReader`.  Det svarer meget til at bruge `StreamReader`, men du har f.eks. mulighed for at angive separator og bruge overskrifterne i CSV-filen.  Du kan også springe nogle linjer i starten af filen over, hvis det er nødvendigt."
   ]
  },
  {
   "cell_type": "code",
   "execution_count": 24,
   "metadata": {
    "collapsed": false
   },
   "outputs": [
    {
     "data": {
      "text/html": [
       "<font style=\"color:Black\">Antal biler: 3\r\n",
       "</font>"
      ],
      "text/plain": [
       "Antal biler: 3\r\n"
      ]
     },
     "execution_count": 24,
     "metadata": {},
     "output_type": "execute_result"
    }
   ],
   "source": [
    "// Opret liste af biler til at holde de biler, vi indlæser.\n",
    "var biler = new List<Bil>();\n",
    "using (var reader = new CsvReader(\"biler.csv\", skipNumberOfLines: 0, firstLineContainsColumnNames: true))\n",
    "{\n",
    "    while (reader.Read())\n",
    "    {\n",
    "        var bil = new Bil(\n",
    "            Convert.ToInt32(reader[\"Id\"]),\n",
    "            reader[\"Navn\"],\n",
    "            reader[\"Bilmærke\"]\n",
    "        );\n",
    "        \n",
    "        biler.Add(bil);\n",
    "    }\n",
    "}\n",
    "\n",
    "Print(\"Antal biler: \" + biler.Count);"
   ]
  },
  {
   "cell_type": "code",
   "execution_count": 25,
   "metadata": {
    "collapsed": false
   },
   "outputs": [
    {
     "data": {
      "text/html": [
       "<font style=\"color:Black\">Lasse&#39;s bil er en Renault.\r\n",
       "</font>"
      ],
      "text/plain": [
       "Lasse's bil er en Renault.\r\n"
      ]
     },
     "execution_count": 25,
     "metadata": {},
     "output_type": "execute_result"
    }
   ],
   "source": [
    "Print($\"{biler[0].Navn}'s bil er en {biler[0].Bilmærke}.\");"
   ]
  },
  {
   "cell_type": "code",
   "execution_count": 26,
   "metadata": {
    "collapsed": true
   },
   "outputs": [],
   "source": [
    "// Hjælpefunktion til Jupyter Notebook. Brug ikke i Visual Studio!\n",
    "string Print(object output)\n",
    "{\n",
    "    return output.ToString();\n",
    "}"
   ]
  },
  {
   "cell_type": "markdown",
   "metadata": {},
   "source": [
    "# Tilgang til Microsoft SQL Server i C# #\n",
    "Hermed en kort beskrivelse af, hvordan du kan læse fra og skrive data til en SQL Server database fra C#.\n"
   ]
  },
  {
   "cell_type": "markdown",
   "metadata": {},
   "source": [
    "I .NET ligger klasserne til at tilgå SQL Server i to namespaces, som du skal starte med at inkludere øverst i din .cs fil."
   ]
  },
  {
   "cell_type": "code",
   "execution_count": 27,
   "metadata": {
    "collapsed": true
   },
   "outputs": [],
   "source": [
    "using System.Data;\n",
    "using System.Data.SqlClient;"
   ]
  },
  {
   "cell_type": "markdown",
   "metadata": {},
   "source": [
    "Næste skridt er at fortælle C#, hvilken SQL Server og database, vi ønsker at bruge.  Det gør man vha. en såkaldt connection string, som ser således ud."
   ]
  },
  {
   "cell_type": "code",
   "execution_count": 28,
   "metadata": {
    "collapsed": false
   },
   "outputs": [],
   "source": [
    "string connectionString = @\"Integrated Security=SSPI;Persist Security Info=False;Initial Catalog=datamartnavn;Data Source=sqlinstansnavn\";"
   ]
  },
  {
   "cell_type": "markdown",
   "metadata": {},
   "source": [
    "Denne connection string fortæller, at SQL serverinstancen hedder \"sqlinstansnavn\", databasen hedder\"datamartnavn\", og du ønsker at logge ind på SQL serveren med dit almindelige Windows login."
   ]
  },
  {
   "cell_type": "markdown",
   "metadata": {},
   "source": [
    "Login til databasen sker vha. en klasse, der hedder `SqlConnection`.  Når man bruger `SqlConnection`, skal man huske altid at lukke igen (`Dispose`).  Derfor pakker vi den ind i en `using` block.  Som parameter tager `SqlConnection` vores connection string."
   ]
  },
  {
   "cell_type": "code",
   "execution_count": 29,
   "metadata": {
    "collapsed": false
   },
   "outputs": [
    {
     "data": {
      "text/html": [
       "<font style=\"color:Red\">Der opstod en netv&#230;rksrelateret eller forekomstspecifik fejl, da det blev fors&#248;gt at oprette forbindelse til SQL Server. Serveren blev ikke fundet, eller der var ikke adgang til den. Kontroller, at forekomstnavnet er korrekt, og at SQL Server er konfigureret til at tillade fjernforbindelser. (provider: Named Pipes Provider, error: 40 - Der kunne ikke &#229;bnes en forbindelse til SQL Server.)\r\n",
       "</font>"
      ],
      "text/plain": [
       "Der opstod en netværksrelateret eller forekomstspecifik fejl, da det blev forsøgt at oprette forbindelse til SQL Server. Serveren blev ikke fundet, eller der var ikke adgang til den. Kontroller, at forekomstnavnet er korrekt, og at SQL Server er konfigureret til at tillade fjernforbindelser. (provider: Named Pipes Provider, error: 40 - Der kunne ikke åbnes en forbindelse til SQL Server.)\r\n"
      ]
     },
     "execution_count": 29,
     "metadata": {},
     "output_type": "execute_result"
    }
   ],
   "source": [
    "using (var cn = new SqlConnection(connectionString))\n",
    "{\n",
    "    cn.Open();\n",
    "}"
   ]
  },
  {
   "cell_type": "markdown",
   "metadata": {},
   "source": [
    "Indtil videre er der ikke så meget sjov ved vores connection, så lad os afvikle noget SQL med en SELECT statement.  Det gør man gennem klassen `SqlCommand`.  `SqlCommand` har en metode med navnet `ExecuteReader`, som returnerer et object af type `SqlDataReader`, der kan bruges til at løbe resultatet en en SELECT statement igennem linje for linje.  En reader skal også altid lukkes med `Dispose`."
   ]
  },
  {
   "cell_type": "code",
   "execution_count": 30,
   "metadata": {
    "collapsed": false
   },
   "outputs": [
    {
     "data": {
      "text/html": [
       "<font style=\"color:Red\">Der opstod en netv&#230;rksrelateret eller forekomstspecifik fejl, da det blev fors&#248;gt at oprette forbindelse til SQL Server. Serveren blev ikke fundet, eller der var ikke adgang til den. Kontroller, at forekomstnavnet er korrekt, og at SQL Server er konfigureret til at tillade fjernforbindelser. (provider: Named Pipes Provider, error: 40 - Der kunne ikke &#229;bnes en forbindelse til SQL Server.)\r\n",
       "</font>"
      ],
      "text/plain": [
       "Der opstod en netværksrelateret eller forekomstspecifik fejl, da det blev forsøgt at oprette forbindelse til SQL Server. Serveren blev ikke fundet, eller der var ikke adgang til den. Kontroller, at forekomstnavnet er korrekt, og at SQL Server er konfigureret til at tillade fjernforbindelser. (provider: Named Pipes Provider, error: 40 - Der kunne ikke åbnes en forbindelse til SQL Server.)\r\n"
      ]
     },
     "execution_count": 30,
     "metadata": {},
     "output_type": "execute_result"
    }
   ],
   "source": [
    "var output = new StringBuilder();\n",
    "using (var cn = new SqlConnection(connectionString))\n",
    "{\n",
    "    var cmd = new SqlCommand(\"SELECT TOP(10) PoliceNummer FROM Dimensions.Police\", cn);\n",
    "    cn.Open();\n",
    "    \n",
    "    using (var reader = cmd.ExecuteReader())\n",
    "    {\n",
    "        while (reader.Read())\n",
    "        {\n",
    "            output.AppendLine((string)reader[\"PoliceNummer\"]);\n",
    "        }\n",
    "    }\n",
    "}\n",
    "\n",
    "Print(output.ToString());"
   ]
  },
  {
   "cell_type": "markdown",
   "metadata": {},
   "source": [
    "Bemærk hvordan vi løber resultatet igennem linje for linje med `while` løkken, og for hver linje beder vi om værdien i \"PoliceNummer\"-kolonnen."
   ]
  },
  {
   "cell_type": "markdown",
   "metadata": {},
   "source": [
    "Måske ønsker vi kun at se nogle oplysninger for en enkelt police, så vi vil gerne kunne parametrisere vores SELECT med en WHERE clause.  En mulighed er at skrive \"SELECT ... WHERE PoliceNummer = 1705490401'\". Men hvis du har brugt for at køre SQL'en flere gange for forskellige policenumre, er det rigtige at gøre at bruge SQL parametre som vist herunder.  Der er flere fordele ved det.  En af dem er, at formatet f.eks. for datoer altid bliver korrekt.  Det sørger SQL server for.  Sådan ser den <strong>rigtige</strong> måde ud:"
   ]
  },
  {
   "cell_type": "code",
   "execution_count": 31,
   "metadata": {
    "collapsed": false
   },
   "outputs": [
    {
     "data": {
      "text/html": [
       "<font style=\"color:Red\">Der opstod en netv&#230;rksrelateret eller forekomstspecifik fejl, da det blev fors&#248;gt at oprette forbindelse til SQL Server. Serveren blev ikke fundet, eller der var ikke adgang til den. Kontroller, at forekomstnavnet er korrekt, og at SQL Server er konfigureret til at tillade fjernforbindelser. (provider: Named Pipes Provider, error: 40 - Der kunne ikke &#229;bnes en forbindelse til SQL Server.)\r\n",
       "</font>"
      ],
      "text/plain": [
       "Der opstod en netværksrelateret eller forekomstspecifik fejl, da det blev forsøgt at oprette forbindelse til SQL Server. Serveren blev ikke fundet, eller der var ikke adgang til den. Kontroller, at forekomstnavnet er korrekt, og at SQL Server er konfigureret til at tillade fjernforbindelser. (provider: Named Pipes Provider, error: 40 - Der kunne ikke åbnes en forbindelse til SQL Server.)\r\n"
      ]
     },
     "execution_count": 31,
     "metadata": {},
     "output_type": "execute_result"
    }
   ],
   "source": [
    "var output = new StringBuilder();\n",
    "using (var cn = new SqlConnection(connectionString))\n",
    "{\n",
    "    var cmd = new SqlCommand(\"SELECT TOP(10) PoliceNummer, PoliceStatus FROM Dimensions.Police WHERE PoliceNummer = @policeNummer\", cn);\n",
    "    cmd.Parameters.Add(\"@policeNummer\", SqlDbType.NVarChar, 20).Value = \"1705490401\";\n",
    "    cn.Open();\n",
    "\n",
    "    using (var reader = cmd.ExecuteReader())\n",
    "    {\n",
    "        while (reader.Read())\n",
    "        {\n",
    "            output.AppendLine((string)reader[\"PoliceNummer\"]);\n",
    "            output.AppendLine((string)reader[\"PoliceStatus\"]);\n",
    "        }\n",
    "    }\n",
    "}\n",
    "            \n",
    "Print(output.ToString());\n"
   ]
  },
  {
   "cell_type": "markdown",
   "metadata": {},
   "source": [
    "Du kan naturligvis også afvikle andre typer SQL, som f.eks. UPDATE, INSERT og DELETE.  Til det formål skal du bruge `ExecuteNonQuery` i stedet for `ExecuteReader`. `ExecuteNonQuery` returnerer antal rækker, der er påvirket af SQL'en.  For INSERT vil metoden f.eks. returnere antal nye rækker."
   ]
  },
  {
   "cell_type": "code",
   "execution_count": 35,
   "metadata": {
    "collapsed": false
   },
   "outputs": [
    {
     "data": {
      "text/html": [
       "<font style=\"color:Black\">2\r\n",
       "</font>"
      ],
      "text/plain": [
       "2\r\n"
      ]
     },
     "execution_count": 35,
     "metadata": {},
     "output_type": "execute_result"
    }
   ],
   "source": [
    "int antalRækker = 0;\n",
    "using (var cn = new SqlConnection(@\"Integrated Security=SSPI;Persist Security Info=False;Initial Catalog=Test;Data Source=.\\SQLEXPRESS\"))\n",
    "{\n",
    "    // Sådan vil man normalt ikke lave to INSERTs.\n",
    "    var cmd = new SqlCommand(@\"\n",
    "        INSERT INTO TestTable (Id, TestKolonne) VALUES (@id1, @testVærdi1)\n",
    "        INSERT INTO TestTable (Id, TestKolonne) VALUES (@id2, @testVærdi2)\n",
    "        \", cn);\n",
    "        \n",
    "    cmd.Parameters.Add(\"@id1\", SqlDbType.Int).Value = 42;\n",
    "    cmd.Parameters.Add(\"@testVærdi1\", SqlDbType.NVarChar, 20).Value = \"abcde\";\n",
    "    cmd.Parameters.Add(\"@id2\", SqlDbType.Int).Value = 43;\n",
    "    cmd.Parameters.Add(\"@testVærdi2\", SqlDbType.NVarChar, 20).Value = \"fghij\";\n",
    "    cn.Open();\n",
    "\n",
    "    antalRækker = cmd.ExecuteNonQuery();\n",
    "}\n",
    "            \n",
    "Print(antalRækker);\n"
   ]
  },
  {
   "cell_type": "markdown",
   "metadata": {},
   "source": [
    "# Hvordan gemmer man lange SQL statements i SQL?\n",
    "\n",
    "En måde at gemme lange stykker SQL kode i sit C# projekt, er at gemme dem som en ressource i selve projektet.  En ressource kan være en streng, en fil, et billede eller andet, som bliver \"embedded\" i ens .exe eller .dll fil, og man kan tilgå ressourcen fra kode.\n",
    "\n",
    "Først skal vi sikre os, at projektet har en ressource fil.  Højreklik på projektet i Solution Explorer i Visual Studio og vælg Properties.  I højre side er der et punkt, der hedder Resources.  Hvis projektet ikke har en ressource fil i forvejen, vil der være et link, hvor der står \"This project does not contain a default resources file. Click here to create one\".\n",
    "\n",
    "<img src=\"files/Images/vs-add-ressource-file.png\">\n",
    "\n",
    "Når du klikker på linket, vil VS tilføje en ny fil kaldet Resources.resx i dit projekt.\n",
    "\n",
    "<img src=\"files/Images/vs-ressources-file.PNG\">\n",
    "\n",
    "Næste trin er at lave dine SQL filer.  Man laver en fil pr. SQL statement og tilføjer til VS projektet.  Det er en god idé at placere filerne i en underfolder i projektet:\n",
    "\n",
    "1. Højre-klik på dit projekt i Solution Explorer og vælg Add -> New Folder.\n",
    "1. Kald den nye foldere SQL eller Ressources eller noget andet sigende.\n",
    "1. Højre-klik på folderen og vælge Add -> New Item.\n",
    "1. Søg efter \"text\" og vælg Text File.\n",
    "1. Indtast et navn for filen med .sql extension og tryk Add.\n",
    "\n",
    "    <img src=\"files/Images/vs-add-sql-file.png\" >\n",
    "        \n",
    "1. Skriv din SQL statement i den nye .sql fil og gem.\n",
    "1. Dobbelt-klik på din Resources.resx fil i Solution Explorer.\n",
    "1. Tryk på Add Resource knappen øverst og vælg Add Existing File fra dropdown menuen.\n",
    "\n",
    "    <img src=\"files/Images/vs-ressources-add-file.PNG\" >\n",
    "\n",
    "1. Browse til din nye .sql fil og tilføj den.\n",
    "\n",
    "Når du gemmer Resource.resx vil VS lave lidt magi, som gør det meget nemt at få fat i SQL'en fra C#.  VS laver automatisk en Properties klasse, som man kan bruge:\n",
    "\n",
    "```C#\n",
    "var cmd = new SqlCommand(Properties.Resources.MySql, connection);\n",
    "```\n"
   ]
  },
  {
   "cell_type": "markdown",
   "metadata": {},
   "source": [
    "# Unit tests\n",
    "\n",
    "Unit tests er kode, som tester kode.  Dvs. du skal skrive kode, hvis formål er at teste, at din egentlige programkode opfører sig som forventet.  Det ligger i betegnelsen, at formålet er at teste afgrænsede enheder (units) af koden.  Så formålet er ikke at teste, at hele programmet fungerer samlet set.  Der skal man bruge regressions- og integrationstest.\n",
    "\n",
    "Målet med unit tests er at de skal give udvikleren en sikkerhed for, at hvis han eller hun retter i koden, fungerer den stadig efter hensigten.\n",
    "\n",
    "Der er delte meninger om, hvad man bør teste med unit tests.  Nogle mener man skal teste mod testdatabaser og andet, mens andre mener, at unit tests skal kunne afvikles udelukkende in-memory.  Der er enighed om, at unit tests skal være hurtige, og de skal kunne afvikles automatisk.  F.eks. kan man konfigurere TFS til at afvikle unit tests automatisk, når man tjekker sin kode ind.\n",
    "\n",
    "En unit test kunne f.eks. se således ud.  Her tester vi, at metoden Add kan lægge to tal rigtigt sammen.\n",
    "\n",
    "```C#\n",
    "int actual = Beregner.Add(1, 2);\n",
    "Assert.AreEqual(3, actual);\n",
    "```\n",
    "\n",
    "Koden til unit tests er ikke en del af dit egentlige program, så derfor skal unit tests ligge et separat projekt men i samme solution som dit program i Visual Studio.  Højreklik derfor på din solution øverst i Solution Explorer og vælg Add -> New Project.  Vælg den projektskabelon der hedder \"Class Library (.NET Framework)\".\n",
    "\n",
    "Unit test projekter skal du navngive som projektnavnet på det projekt, der skal testes, med \".UnitTest\" bagefter, som vist på skærmbilledet herunder.  Her hedder vores program \"Beregningsmaskine\", så unit test projektet skal hedde \"Beregningsmaskine.UnitTest\".\n",
    "\n",
    "Når det nye projekt er oprettet, skal du slette den automatisk oprettede fil Class1.cs fra projektet.\n",
    "\n",
    "![Nyt projekt](Images/unittest-new-project.png)\n",
    "\n",
    "## Installer XUnit\n",
    "\n",
    "Til at unit teste bruger vi i AT et framework, der hedder [XUnit](https://xunit.github.io/).  XUnit sørger for at afvikle vores unit tests og fortælle, hvis nogen af dem går galt.  For at installere XUnit, skal du bruge Nuget, og for eksemplets skyld vil vi installere XUnit gennem den såkaldte Nuget package manager console.\n",
    "\n",
    "> Unit test frameworks: Andre kendte unit test frameworks er NUnit og MSTest.\n",
    "\n",
    "1. I VS gå til menuen View -> Other Windows -> Package Manager Console.  Dette vil åbne et vindue nederst i VS.\n",
    "1. Vælg dit unit test projekt i \"Default project\" dropdown.\n",
    "1. Skriv følgende kommando og tryk enter:\n",
    "    ```\n",
    "    install-package xunit\n",
    "    ```\n",
    "1. Gør det samme for:\n",
    "    ```\n",
    "    install-package xunit.runner.visualstudio\n",
    "    ```\n",
    "\n",
    "Du har nu installeret XUnit og en såkaldt Visual Studio runner for XUnit.  Denne runner gør det muligt nemt at afvikle unit tests fra VS.\n",
    "\n",
    "For at teste koden i dit hovedprojekt (Beregningsmaskine i vores eksempel), skal du også tilføje en reference til det projekt fra dit unit test projekt.\n",
    "\n",
    "1. I Solution Explorer, højreklik på References under dit unit test projekt og vælg Add Reference.\n",
    "1. Klik på Projects til venstre.\n",
    "1. Sæt et kryds ud for dit hovedprojekt.\n",
    "1. Klik OK.\n",
    "\n",
    "Referencen gør det muligt at kalde kode i hovedprojektet fra unit test projektet.  \n",
    "\n",
    "> Acces modifiers: Da unit tests lever i et andet projekt en hovedkoden, kan unit tests som udgangspunkt kun teste public klasser og metoder.\n",
    "\n",
    "## Kode til unit teste\n",
    "\n",
    "Det er nu endelig tid til at skrive vores første unit test.  Antag at vores hovedprojekt har en klasse med én metode kaldet Division.  Det er tanken at Division skal kunne lave heltalsdivision, og det vil vi gerne unit teste.  Indtil videre kan vores metode ikke så meget.\n",
    "\n",
    "```C#\n",
    "public static class IntegerMath\n",
    "{\n",
    "    public static int Division(int tæller, int nævner)\n",
    "    {\n",
    "        return 0;\n",
    "    }\n",
    "}\n",
    "```\n",
    "\n",
    "En metode til at skrive unit tests er at skrive testen først og derefter rette koden til, så den opfylder testen. Denne metode kaldes test-drive development, og det er den metode, vi vil bruge til at teste vores Division funktion.\n",
    "\n",
    "Tilføj en ny klasse til dit unit test projekt.  Kald klassen (og filen) for `IntegerMathTest`.  Øverst i den nye fil skal du tilføje følgende using statements:\n",
    "\n",
    "```C#\n",
    "using Xunit;\n",
    "using Beregningsmaskine;\n",
    "```\n",
    "\n",
    "Tilføj en ny metode til `IntegerMathTest` klassen, som vist herunder.  Denne metode er vores første unit test.\n",
    "\n",
    "```C#\n",
    "public class IntegerMathTest\n",
    "{\n",
    "    [Fact]\n",
    "    public void Division_PositiveTalNævnerGårOpITæller_ReturnererDivisor()\n",
    "    {\n",
    "\n",
    "    }\n",
    "}\n",
    "```\n",
    "\n",
    "Bemærk den såkaldte attribut `[Fact]`.  Denne attribut fortæller XUnit, at denne metode er en unit test, som skal afvikles af XUnit, når vi kører vores unit tests.\n",
    "\n",
    "> Navngivning af unit tests: Normalt bruger vi ikke underscore i type- og metodenavne, men unit tests er en undtagelse.  De navngives efter mønsteret [Metode der testes]\\_[Hvad tester vi]\\_[Forventet resultat].\n",
    "\n",
    "Lad os skrive en test af, at metoden kan dividere 4 med 2.\n",
    "\n",
    "```C#\n",
    "[Fact]\n",
    "public void Division_PositiveTalNævnerGårOpITæller_ReturnererDivisor()\n",
    "{\n",
    "    int tæller = 6;\n",
    "    int nævner = 2;\n",
    "\n",
    "    int actual = IntegerMath.Division(tæller, nævner);\n",
    "\n",
    "    Assert.Equal(3, actual);       \n",
    "}\n",
    "```\n",
    "\n",
    "Højreklik nu et sted inde i din test metode og vælg Run Tests.  VS vil nu åbne et nyt Test Explorer vindue af afvikle din test vha. XUnit.  Som forventet vil testen fejle, for vores funktion returnerer 0 og ikke 2 som forventet.\n",
    "\n",
    "![Fejl i unit test](Images/unittest-fail.png)\n",
    "\n",
    "Lad os prøve at rette metoden til, så den rent faktisk forsøger at regne noget.\n",
    "\n",
    "```C#\n",
    "public static int Division(int tæller, int nævner)\n",
    "{\n",
    "    return tæller / nævner;\n",
    "}\n",
    "```\n",
    "\n",
    "Unit testen melder nu succes!\n",
    "\n",
    "![Succesfuld unit test](Images/unittest-success.png)\n",
    "\n",
    "Lad os tilføje en ny unit test, der tester, at funktionen kan håndtere heltalsdivision, hvor tæller ikke går op i nævner.  Vi ønsker, at funktionen returnerer den heltalsdivisor, der ligger tættest på nul.\n",
    "\n",
    "```C#\n",
    "[Fact]\n",
    "public void Division_PositiveTalNævnerGårIkkeOpITæller_ReturnererDivisorTættestPåNul()\n",
    "{\n",
    "    int tæller = 7;\n",
    "    int nævner = 2;\n",
    "\n",
    "    int actual = IntegerMath.Division(tæller, nævner);\n",
    "\n",
    "    Assert.Equal(3, actual);\n",
    "}\n",
    "```\n",
    "\n",
    "Tryk Run All øverst i Test Explorer for at køre begge unit tests.  Som du kan se, kører begge unit tests igennem uden fejl.\n",
    "\n",
    "> Heltalsdivision i C#: Hvorfor fejler vores anden unit test ikke?  \n",
    "\n",
    "> Division med operatoren '/' i C# er som standard en heltalsdivision, hvis både tæller og nævner er heltal.  Derfor går vores unit test igennem uden fejl, uden at vi ændrede noget i koden (det betyder også, at vores Division metode er nytteløs, for C# har allerede heltalsdivision med '/').  \n",
    "\n",
    "> Hvis du vil lave ikke-heltalsdivision, skal du sørge for, at nævneren er en double eller en float, f.eks. ved at lave en cast til double: \n",
    "\n",
    "> `double res = tæller / (double)nævner`.\n",
    "\n",
    "Lad os tilføje en test af, at det virker, hvis tælleren er negativ.\n",
    "\n",
    "```C#\n",
    "[Fact]\n",
    "public void Division_TællerNegativNævnerGårIkkeOpITæller_ReturnererDivisorTættestPåNul()\n",
    "{\n",
    "    int tæller = -7;\n",
    "    int nævner = 2;\n",
    "\n",
    "    int actual = IntegerMath.Division(tæller, nævner);\n",
    "\n",
    "    Assert.Equal(-3, actual);\n",
    "}\n",
    "```\n",
    "\n",
    "Igen går testen godt uden kodeændringer.\n",
    "\n",
    "> Gentagelse af kode: Vi har nu skrevet 3 unit tests, som er meget ens.  Som for al anden kode, skal man helst undgå at gentage sig selv for at mindske byrden ved vedligeholdelse.  XUnit har en funktionalitet, der hedder theories, hvor man kan parametrisere unit tests.  Det vil vi ikke gennemgå her, men overlade det som en [øvelse til læseren](http://hamidmosalla.com/2017/02/25/xunit-theory-working-with-inlinedata-memberdata-classdata/).\n",
    "\n",
    "Vi mangler at teste, hvad der sker, hvis nævneren er 0.  Hvis nævneren er 0, vil vi gerne have en exception.  Måden er man tester det på, er ved at bruge XUnit's `Assert.Throws` metode.\n",
    "\n",
    "```C#\n",
    "[Fact]\n",
    "public void Division_TællerErIkke0NævnerEr0_Throws()\n",
    "{\n",
    "    int tæller = 7;\n",
    "    int nævner = 0;\n",
    "\n",
    "    Assert.Throws<Exception>(() => IntegerMath.Division(tæller, nævner));\n",
    "}\n",
    "```\n",
    "\n",
    "Denne unit test fejler med beskeden _\"Expected: typeof(System.Exception)\n",
    "Actual:   typeof(System.DivideByZeroException\"_. Det viser sig, at '/' kaster `DivideByZeroException`, hvis nævneren er 0, så vi ændrer unit testen.\n",
    "\n",
    "```C#\n",
    "Assert.Throws<DivideByZeroException>(() => IntegerMath.Division(tæller, nævner));\n",
    "```\n",
    "\n",
    "Metoden `Assert.Throws` benytter sig af en såkaldt delegate.  I vores tilfælde ser den delegate således ud.\n",
    "\n",
    "```C#\n",
    "() => IntegerMath.Division(tæller, nævner)\n",
    "```\n",
    "\n",
    "En delegate er en slags reference til en funktion, så man kan kalde en funktion indirekte.  Så vi giver XUnit en  reference til `IntegerMath.Division`, som XUnit så kalder for at tjekke, om der rent faktisk kommer en `DivideByZeroException`.\n",
    "\n",
    "Vores sidste unit test i dette eksempel bliver for 0 divideret med 0.  I vanlig Matematisk Analyse ved studiet for Forsikringsvidenskab ved Københavns Universitet, synes vi, at 0 divideret med 0 skal give 1.\n",
    "\n",
    "```C#\n",
    "[Fact]\n",
    "public void Division_TællerOgNævnerEr0_Returnerer1()\n",
    "{\n",
    "    int tæller = 0;\n",
    "    int nævner = 0;\n",
    "\n",
    "    int actual = IntegerMath.Division(tæller, nævner);\n",
    "\n",
    "    Assert.Equal(1, actual);\n",
    "}\n",
    "```\n",
    "\n",
    "Men testen fejler, fordi C# kaster en `DivideByZeroException`.  Så vi må fikse vores `Divide` funktion.\n",
    "\n",
    "```C#\n",
    "public static int Division(int tæller, int nævner)\n",
    "{\n",
    "    if (tæller == 0 && nævner == 0)\n",
    "    {\n",
    "        return 1;\n",
    "    }\n",
    "\n",
    "    return tæller / nævner;\n",
    "}\n",
    "```\n",
    "\n",
    "Så kører alle tests igennem uden fejl.\n",
    "\n",
    "\n",
    "## Omfang af unit tests\n",
    "\n",
    "Der er lige så mange holdninger til omfanget af unit tests, som der er udviklere.  Nogle mener, at al kode skal afprøves igennem unit tests (såkaldt \"100% code coverage\").\n",
    "\n",
    "I AT har vi en mere pragmatisk holdning til unit tests.  Vi mener, de skal teste forretningsregler, men ikke nødvendigs alle kombinationer af parametre.  Man skal også teste hjørnetilfælde, f.eks. division med 0 i ovenstående eksempel.\n",
    "\n",
    "Unit tests bør altid skrives af den udvikler, der har skrevet den oprindelige"
   ]
  }
 ],
 "metadata": {
  "kernelspec": {
   "display_name": "C#",
   "language": "csharp",
   "name": "csharp"
  },
  "language_info": {
   "name": "C#",
   "version": "0...0...1"
  }
 },
 "nbformat": 4,
 "nbformat_minor": 2
}
