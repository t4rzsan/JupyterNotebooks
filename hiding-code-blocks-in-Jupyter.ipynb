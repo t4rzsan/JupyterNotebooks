{
 "cells": [
  {
   "cell_type": "markdown",
   "metadata": {},
   "source": [
    "# Hiding code blocks in Jupyter\n",
    "You may want to hide your R or Python code blocks when distributing your Jupyter Notebooks to someone else.  This shows you a way to do this when exporting your notebook as HTML or showing your notebook in [nbviewer](https://nbviewer.jupyter.org/).\n",
    "\n",
    "Start by adding a \"Raw NBConvert\" block at the top of your notebook.\n",
    "\n",
    "Paste the following JavaScript and HTML into the block (shamelessly stolen from [elsewhere](http://chris-said.io/2016/02/13/how-to-make-polished-jupyter-presentations-with-optional-code-visibility/)).\n",
    "\n",
    "```\n",
    "<script>\n",
    "  function code_toggle() {\n",
    "    if (code_shown){\n",
    "      $('div.input').hide('500');\n",
    "      $('#toggleButton').val('Show Code')\n",
    "    } else {\n",
    "      $('div.input').show('500');\n",
    "      $('#toggleButton').val('Hide Code')\n",
    "    }\n",
    "    code_shown = !code_shown\n",
    "  }\n",
    "\n",
    "  $( document ).ready(function(){\n",
    "    code_shown=false;\n",
    "    $('div.input').hide()\n",
    "  });\n",
    "</script>\n",
    "<form action=\"javascript:code_toggle()\"><input type=\"submit\" id=\"toggleButton\" value=\"Show Code\"></form>\n",
    "```\n",
    "\n",
    "The code will put a \"Show code\"/\"Hide code\" buttom at the top of your notebook in nbviewer.\n",
    "\n",
    "The method is a bit clumsy by at the moment Jupyter does not support hiding the code."
   ]
  }
 ],
 "metadata": {
  "kernelspec": {
   "display_name": "R",
   "language": "R",
   "name": "ir"
  },
  "language_info": {
   "codemirror_mode": "r",
   "file_extension": ".r",
   "mimetype": "text/x-r-source",
   "name": "R",
   "pygments_lexer": "r",
   "version": "3.4.0"
  }
 },
 "nbformat": 4,
 "nbformat_minor": 2
}
