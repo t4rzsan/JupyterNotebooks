{
 "cells": [
  {
   "cell_type": "code",
   "execution_count": 3,
   "metadata": {
    "collapsed": true
   },
   "outputs": [],
   "source": [
    "// Hjælpefunktion til Jupyter Notebook. Brug ikke i Visual Studio!\n",
    "string Print(object output)\n",
    "{\n",
    "    return output.ToString();\n",
    "}"
   ]
  },
  {
   "cell_type": "markdown",
   "metadata": {},
   "source": [
    "# Tilgang til Microsoft SQL Server i C# #\n",
    "Hermed en kort beskrivelse af, hvordan du kan læse fra og skrive data til en SQL Server database fra C#.\n"
   ]
  },
  {
   "cell_type": "markdown",
   "metadata": {},
   "source": [
    "I .NET ligger klasserne til at tilgå SQL Server i to namespaces, som du skal starte med at inkludere øverst i din .cs fil."
   ]
  },
  {
   "cell_type": "code",
   "execution_count": 4,
   "metadata": {
    "collapsed": true
   },
   "outputs": [],
   "source": [
    "using System.Data;\n",
    "using System.Data.SqlClient;"
   ]
  },
  {
   "cell_type": "markdown",
   "metadata": {},
   "source": [
    "Først skridt er at oprette en connection til en SQL Server database. Det gør man ved at lave en såkaldt connection string, som er en streng, der fortæller ting som server- og database-navn.  For at forbinde til AP's datavarehus, skal man bruge en connection string, der ser således ud."
   ]
  },
  {
   "cell_type": "code",
   "execution_count": 5,
   "metadata": {
    "collapsed": false
   },
   "outputs": [],
   "source": [
    "string connectionString = @\"Integrated Security=SSPI;Persist Security Info=False;Initial Catalog=datamartnavn;Data Source=sqlinstansnavn\";"
   ]
  },
  {
   "cell_type": "markdown",
   "metadata": {},
   "source": [
    "Denne connection string fortæller, at SQL serverinstancen hedder \"sqlinstansnavn\", databasen hedder\"datamartnavn\", og du ønsker at logge ind på SQL serveren med dit almindelige Windows login."
   ]
  },
  {
   "cell_type": "markdown",
   "metadata": {},
   "source": [
    "Login til databasen sker vha. en klasse, der hedder `SqlConnection`.  Når man bruger `SqlConnection`, skal man huske altid at lukke igen (`Dispose`).  Derfor pakker vi den ind i en `using` block.  Som parameter tager `SqlConnection` vores connection string."
   ]
  },
  {
   "cell_type": "code",
   "execution_count": 6,
   "metadata": {
    "collapsed": true
   },
   "outputs": [],
   "source": [
    "using (var cn = new SqlConnection(connectionString))\n",
    "{\n",
    "    cn.Open();\n",
    "}"
   ]
  },
  {
   "cell_type": "markdown",
   "metadata": {},
   "source": [
    "Indtil videre er der ikke så meget sjov ved vores connection, så lad os afvikle noget SQL med en SELECT statement.  Det gør man gennem klassen `SqlCommand`.  `SqlCommand` har en metode med navnet `ExecuteReader`, som returnerer et object af type `SqlDataReader`, der kan bruges til at løbe resultatet en en SELECT statement igennem linje for linje.  En reader skal også altid lukkes med `Dispose`."
   ]
  },
  {
   "cell_type": "code",
   "execution_count": 7,
   "metadata": {
    "collapsed": false
   },
   "outputs": [
    {
     "data": {
      "text/html": [
       "<font style=\"color:Black\">2603590401\r\n",
       "1803560301\r\n",
       "511600501\r\n",
       "2211650101\r\n",
       "1906420101\r\n",
       "1701590101\r\n",
       "2308650301\r\n",
       "1705490401\r\n",
       "712590204\r\n",
       "404610301\r\n",
       "\r\n",
       "</font>"
      ],
      "text/plain": [
       "2603590401\r\n",
       "1803560301\r\n",
       "511600501\r\n",
       "2211650101\r\n",
       "1906420101\r\n",
       "1701590101\r\n",
       "2308650301\r\n",
       "1705490401\r\n",
       "712590204\r\n",
       "404610301\r\n",
       "\r\n"
      ]
     },
     "execution_count": 7,
     "metadata": {},
     "output_type": "execute_result"
    }
   ],
   "source": [
    "var output = new StringBuilder();\n",
    "using (var cn = new SqlConnection(connectionString))\n",
    "{\n",
    "    var cmd = new SqlCommand(\"SELECT TOP(10) PoliceNummer FROM Dimensions.Police\", cn);\n",
    "    cn.Open();\n",
    "    \n",
    "    using (var reader = cmd.ExecuteReader())\n",
    "    {\n",
    "        while (reader.Read())\n",
    "        {\n",
    "            output.AppendLine((string)reader[\"PoliceNummer\"]);\n",
    "        }\n",
    "    }\n",
    "}\n",
    "\n",
    "Print(output.ToString());"
   ]
  },
  {
   "cell_type": "markdown",
   "metadata": {},
   "source": [
    "Bemærk hvordan vi løber resultatet igennem linje for linje med `while` løkken, og for hver linje beder vi om værdien i \"PoliceNummer\"-kolonnen."
   ]
  },
  {
   "cell_type": "markdown",
   "metadata": {},
   "source": [
    "Måske ønsker vi kun at se nogle oplysninger for en enkelt police, så vi vil gerne kunne parametrisere vores SELECT med en WHERE clause.  En mulighed er at skrive \"SELECT ... WHERE PoliceNummer = 1705490401'\". Men hvis du har brugt for at køre SQL'en flere gange for forskellige policenumre, er det rigtige at gøre at bruge SQL parametre som vist herunder.  Der er flere fordele ved det.  En af dem er, at formatet f.eks. for datoer altid bliver korrekt.  Det sørger SQL server for.  Sådan ser den <strong>rigtige</strong> måde ud:"
   ]
  },
  {
   "cell_type": "code",
   "execution_count": 8,
   "metadata": {
    "collapsed": false
   },
   "outputs": [
    {
     "data": {
      "text/html": [
       "<font style=\"color:Black\">1705490401\r\n",
       "G82 Videref&#248;rt (nyt l&#248;benr.)\r\n",
       "\r\n",
       "</font>"
      ],
      "text/plain": [
       "1705490401\r\n",
       "G82 Videreført (nyt løbenr.)\r\n",
       "\r\n"
      ]
     },
     "execution_count": 8,
     "metadata": {},
     "output_type": "execute_result"
    }
   ],
   "source": [
    "var output = new StringBuilder();\n",
    "using (var cn = new SqlConnection(connectionString))\n",
    "{\n",
    "    var cmd = new SqlCommand(\"SELECT TOP(10) PoliceNummer, PoliceStatus FROM Dimensions.Police WHERE PoliceNummer = @policeNummer\", cn);\n",
    "    cmd.Parameters.Add(\"@policeNummer\", SqlDbType.NVarChar, 20).Value = \"1705490401\";\n",
    "    cn.Open();\n",
    "\n",
    "    using (var reader = cmd.ExecuteReader())\n",
    "    {\n",
    "        while (reader.Read())\n",
    "        {\n",
    "            output.AppendLine((string)reader[\"PoliceNummer\"]);\n",
    "            output.AppendLine((string)reader[\"PoliceStatus\"]);\n",
    "        }\n",
    "    }\n",
    "}\n",
    "            \n",
    "Print(output.ToString());\n"
   ]
  },
  {
   "cell_type": "markdown",
   "metadata": {},
   "source": [
    "Du kan naturligvis også afvikle andre typer SQL, som f.eks. UPDATE, INSERT og DELETE.  Til det formål skal du bruge `ExecuteNonQuery` i stedet for `ExecuteReader`. `ExecuteNonQuery` returnerer antal rækker, der er påvirket af SQL'en.  For INSERT vil metoden f.eks. returnere antal nye rækker."
   ]
  },
  {
   "cell_type": "code",
   "execution_count": 20,
   "metadata": {
    "collapsed": false
   },
   "outputs": [
    {
     "data": {
      "text/html": [
       "<font style=\"color:Black\">2\r\n",
       "</font>"
      ],
      "text/plain": [
       "2\r\n"
      ]
     },
     "execution_count": 20,
     "metadata": {},
     "output_type": "execute_result"
    }
   ],
   "source": [
    "int antalRækker = 0;\n",
    "using (var cn = new SqlConnection(@\"Integrated Security=SSPI;Persist Security Info=False;Initial Catalog=Test;Data Source=.\\SQLEXPRESS\"))\n",
    "{\n",
    "    // Sådan vil man normalt ikke lave to INSERTs.\n",
    "    var cmd = new SqlCommand(@\"\n",
    "        INSERT INTO TestTable (Id, TestKolonne) VALUES (@id1, @testVærdi1)\n",
    "        INSERT INTO TestTable (Id, TestKolonne) VALUES (@id2, @testVærdi2)\n",
    "        \", cn);\n",
    "        \n",
    "    cmd.Parameters.Add(\"@id1\", SqlDbType.Int).Value = 42;\n",
    "    cmd.Parameters.Add(\"@testVærdi1\", SqlDbType.NVarChar, 20).Value = \"abcde\";\n",
    "    cmd.Parameters.Add(\"@id2\", SqlDbType.Int).Value = 43;\n",
    "    cmd.Parameters.Add(\"@testVærdi2\", SqlDbType.NVarChar, 20).Value = \"fghij\";\n",
    "    cn.Open();\n",
    "\n",
    "    antalRækker = cmd.ExecuteNonQuery();\n",
    "}\n",
    "            \n",
    "Print(antalRækker);\n"
   ]
  }
 ],
 "metadata": {
  "kernelspec": {
   "display_name": "C#",
   "language": "csharp",
   "name": "csharp"
  },
  "language_info": {
   "name": "C#",
   "version": "0...0...1"
  }
 },
 "nbformat": 4,
 "nbformat_minor": 2
}
