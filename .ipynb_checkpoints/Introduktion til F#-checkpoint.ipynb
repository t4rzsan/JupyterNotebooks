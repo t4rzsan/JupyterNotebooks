{
 "cells": [
  {
   "cell_type": "markdown",
   "metadata": {},
   "source": [
    "# Hvorfor F#? #\n",
    "F# er hovedsagligt et funktionelt sprog, hvor C# modsat er et objektorienteret sprog. Det betyder, at i sammenligning med C# er F# kortfattet uden så meget fyld.  Samtidig kan F# bruges som script-sprog, dvs. man hurtigt kan banke et script sammen til adhoc opgaver, samtidig med at det også kan bruges til store løsninger.  Til gengæld er den kompakte syntaks i F# sværere at læse og forstå, og sproget har en del komplicerede begreber.  Dem kommer vi ikke ind på i dette dokument.\n",
    "\n",
    "F# er et .NET sprog ligesom C#.  Dvs. F# kan opgøre sig objektorienteret og bruge den omfattende funktionalet, som er at finde i .NET framework.  Samtidig vil man fra F# kunne kalde komponenter kodet i C# og omvendt.\n",
    "\n",
    "## Referencer ##\n",
    "F# er meget mere, end hvad jeg har skrevet nedenfor. Jeg er langt fra nogen F# ekspert, for det er også relativt nyt for mig i skrivende stund.  Men heldigvis findes der mange artikler om F# på nettet. De bedste har jeg linket til herunder.  Microsoft Docs indeholder Microsoft's dokumentation, mens F# for Fun and Profit er en hel bog om F#, og det er i mine øjne den bedste kilde derude til at lære F#.\n",
    "\n",
    "* Microsoft Docs: https://docs.microsoft.com/en-us/dotnet/fsharp/\n",
    "* F# for Fun and Profit: https://fsharpforfunandprofit.com/"
   ]
  },
  {
   "cell_type": "markdown",
   "metadata": {},
   "source": [
    "# \"Getting started\" #\n",
    "## Udviklingsmiljø ##\n",
    "Som det første skal du have opsat et udviklingsmiljø, hvor du kan kode og kompilere din F# kode. De to mest anvendte udviklingsmiljøer er Visual Studio (VS) og Visual Studio Code (VS Code).  Begge er udviklet af Microsoft.  AP har licens til VS, mens VS Code er gratis.  Vi vil bruge VS i dette notat, for det er det samme miljø, som vi bruger til C#.\n",
    "\n",
    "For at bruge F# i VS, skal du sørge for at tilvælge det, når du installerer VS (det kan også tilvælges senere).  I installationen skal du tilvælge \"Data science and analytical applications\".\n",
    "\n",
    "![Installer F#](files/Images/vs-fsharp-installer.PNG)\n",
    "\n",
    "## Projekttyper ##\n",
    "Man kan bruge F# på to forskellige måder: \n",
    "\n",
    "1. Som et projekt, hvor flere F# kode-filer kompileres til en .exe fil, der kan køres på din computer.\n",
    "1. Som en eller flere script filer, som man kører løbende.  Det svarer til den måde, man bruger SQL og R.\n",
    "\n",
    "I det følgende vil du komme til at bruge metode 2 med script filer (også kaldet .fsx filer).\n",
    "\n",
    "I VS kan man altid markere et stykke F# kode og trykke Alt+Enter.  Det vil afvikle den markerede kode i det såkaldte\n",
    "F# Interactive vindue i VS, hvilket er smart til hurtigt at teste, om det virker, det man sidder og laver.\n",
    "\n",
    "> På min computer virker syntax highlighting af en eller anden grund ikke for .fsx filer, mens det virker fint for .fs filer i VS projekter.  Jeg håber, det virker for dig :-)\n",
    "\n",
    "## Hello, world! ##\n",
    "I VS klik FILE -> New -> File og søg efter F#.  Lav en ny F# Script fil.\n",
    "\n",
    "![Ny F# fil](files/Images/vs-fsharp-new-file.PNG)\n",
    "\n",
    "Øverst i filen skriver du:"
   ]
  },
  {
   "cell_type": "code",
   "execution_count": 276,
   "metadata": {
    "collapsed": false
   },
   "outputs": [
    {
     "data": {
      "text/plain": [
       "Hello, world!\r\n"
      ]
     },
     "metadata": {},
     "output_type": "display_data"
    }
   ],
   "source": [
    "printfn \"Hello, world!\""
   ]
  },
  {
   "cell_type": "markdown",
   "metadata": {},
   "source": [
    "Marker teksten og tryk Alt+Enter.  Koden bliver nu sendt til F# Interactive vinduet nederst i VS og bliver afviklet.  Du vil kunne se, at teksten \"Hello, world!\" bliver skrevet ud:\n",
    "\n",
    "![Hello, world](files/Images/vs-fsharp-hello-world.PNG)\n",
    "\n",
    "Så nemt er det at lave et program i F#.  Man behøver ikke en masse klasser, typer, metoder eller noget for at komme i gang."
   ]
  },
  {
   "cell_type": "markdown",
   "metadata": {},
   "source": [
    "# F# konstruktioner #\n",
    "## Variable\n",
    "Du definerer en variabel med `let`:"
   ]
  },
  {
   "cell_type": "code",
   "execution_count": 277,
   "metadata": {
    "collapsed": true
   },
   "outputs": [],
   "source": [
    "let a = 0\n",
    "let b = 4"
   ]
  },
  {
   "cell_type": "markdown",
   "metadata": {},
   "source": [
    "F# vil selv forsøge at gætte typen på dine variable.  Hvis det ikke går godt, kan man hjælpe F# på vej ved at angive typen:"
   ]
  },
  {
   "cell_type": "code",
   "execution_count": 278,
   "metadata": {
    "collapsed": false
   },
   "outputs": [],
   "source": [
    "let c: float = 2.0"
   ]
  },
  {
   "cell_type": "markdown",
   "metadata": {},
   "source": [
    "Ordet \"variabel\" er noget misvisende, for som udgangspunkt kan en variabel ikke ændre sig, efter du først har defineret den.  Man siger, at en variabel er \"immutable\".  Det giver stor sikkerhed i koden, fordi to parter ikke kan komme til at ændre en værdi samtidig.  F.eks. giver følgende en fejl:"
   ]
  },
  {
   "cell_type": "code",
   "execution_count": 279,
   "metadata": {
    "collapsed": false
   },
   "outputs": [
    {
     "name": "stderr",
     "output_type": "stream",
     "text": [
      "This value is not mutable. Consider using the mutable keyword, e.g. 'let mutable c = expression'."
     ]
    }
   ],
   "source": [
    "c <- 4.3"
   ]
  },
  {
   "cell_type": "markdown",
   "metadata": {},
   "source": [
    "Hvis du virkelig har brug for det (men prøv at undgå det), kan du definere en mutable variabel:"
   ]
  },
  {
   "cell_type": "code",
   "execution_count": 280,
   "metadata": {
    "collapsed": false
   },
   "outputs": [
    {
     "data": {
      "text/plain": [
       "5"
      ]
     },
     "execution_count": 280,
     "metadata": {},
     "output_type": "execute_result"
    }
   ],
   "source": [
    "let mutable myMutable = 5\n",
    "myMutable"
   ]
  },
  {
   "cell_type": "code",
   "execution_count": 281,
   "metadata": {
    "collapsed": false
   },
   "outputs": [
    {
     "data": {
      "text/plain": [
       "7"
      ]
     },
     "execution_count": 281,
     "metadata": {},
     "output_type": "execute_result"
    }
   ],
   "source": [
    "myMutable <- 7\n",
    "myMutable"
   ]
  },
  {
   "cell_type": "markdown",
   "metadata": {},
   "source": [
    "## Record Types ##\n",
    "F# har forskellige måder at definere typer på, alt efter behovet.  Hvis du har brug for en simpel type til at holde data, har F# såkaldte record types, som i virkeligheden blot er en samling properties. \n",
    "\n",
    "Du definerer en record type med keyword `type`, og opretter variable af typen med det sædvanlige `let`:"
   ]
  },
  {
   "cell_type": "code",
   "execution_count": 282,
   "metadata": {
    "collapsed": false
   },
   "outputs": [
    {
     "data": {
      "text/plain": [
       "\"Skimmel\""
      ]
     },
     "execution_count": 282,
     "metadata": {},
     "output_type": "execute_result"
    }
   ],
   "source": [
    "type Hest = { \n",
    "    Navn: string; \n",
    "    Farve: string; \n",
    "    Race: string; \n",
    "    Højde: float;\n",
    "    }\n",
    "    \n",
    "let frigga = { Navn = \"Frigga\"; Farve = \"Skimmel\"; Race = \"Islænder\"; Højde = 146.0 }\n",
    "frigga.Farve"
   ]
  },
  {
   "cell_type": "markdown",
   "metadata": {},
   "source": [
    "## Funktioner ##\n",
    "Lad os prøve noget mere sexet, nemlig funktioner.  Man kommer ikke langt uden funktioner af en eller anden slags.\n",
    "\n",
    "Noget af det seje ved funktioner i F# er, at de behandles ligesom variable.  For F# er der ingen forskel på variable og funktioner.  Så funktioner defineres også vha. `let`.  Følgende er en funktion, der lægger 2 og 3 sammen:"
   ]
  },
  {
   "cell_type": "code",
   "execution_count": 283,
   "metadata": {
    "collapsed": false
   },
   "outputs": [
    {
     "data": {
      "text/plain": [
       "5"
      ]
     },
     "execution_count": 283,
     "metadata": {},
     "output_type": "execute_result"
    }
   ],
   "source": [
    "let add2og3 () =\n",
    "    2 + 3\n",
    "    \n",
    "add2og3()"
   ]
  },
  {
   "cell_type": "markdown",
   "metadata": {},
   "source": [
    "Den sidste linje i funktionen definerer funktionens retur-værdi.\n",
    "> Bemærk at i F# er der ingen tuborg-parenteser eller semikolonner.  I F# bruger man i stedet indrykning til at afgrænse blokke.  \n",
    "\n",
    "Vores `add2og3` funktion er ikke specielt anvendelig, så lad os tilføje nogle parametre i stedet for at hardcode tallene."
   ]
  },
  {
   "cell_type": "code",
   "execution_count": 284,
   "metadata": {
    "collapsed": false
   },
   "outputs": [
    {
     "data": {
      "text/plain": [
       "5"
      ]
     },
     "execution_count": 284,
     "metadata": {},
     "output_type": "execute_result"
    }
   ],
   "source": [
    "let add a b = \n",
    "    a + b\n",
    "    \n",
    "add 2 3"
   ]
  },
  {
   "cell_type": "markdown",
   "metadata": {},
   "source": [
    "Igen får vi 5, hvilket ikke er så galt.  Bemærk at parenteser og kommaer ikke bruges til parametrene.  Bemærk også følgende linje i F# Interactive:\n",
    "\n",
    "```\n",
    "val add : a:int -> b:int -> int\n",
    "```\n",
    "\n",
    "Denne lidt mystiske beskrivelse af `add` fortæller, at F# gætter på, at `a` og `b` er integers, og at funktionen returnerer en integer.  Dette kaldes \"signaturen\" af funktionen.\n",
    "\n",
    "Men hvorfor skriver F# det på den mærkelige måde med \"->\" imellem?  \n",
    "\n",
    "Svaret er, at for F# findes der kun funktioner, der tager én parameter.  Dvs. når vi skriver en funktion som `add`, der tager to parametre, opfatter F# det som to funktioner inden i hinanden, som hver tager én parameter.  Det kaldes \"currying\".  Det betyder også, at man kan lave nye funktioner ud fra andre funktioner, ved at \"hardcode\" parametrene.\n",
    "\n",
    "Tag f.eks. en funktion, der beregner det lineære udtryk\n",
    "$$ f(x) = a + b \\cdot x $$"
   ]
  },
  {
   "cell_type": "code",
   "execution_count": 285,
   "metadata": {
    "collapsed": false
   },
   "outputs": [],
   "source": [
    "let f a b x =\n",
    "    a + b * x"
   ]
  },
  {
   "cell_type": "markdown",
   "metadata": {},
   "source": [
    "> Læg mærke til hvor tæt F# funktionen ligger op af det matematiske udtryk, hvilket er en af grundene til, at F# er populært i den finansielle branche og blandt data scientists.\n",
    "\n",
    "Signaturen på funtionen `f` fortæller, at F# opfatter alle 3 parametre som integers, og at det i virkelighen er 3 funktioner efter hinanden:\n",
    "\n",
    "```\n",
    "val f : a:int -> b:int -> x:int -> int\n",
    "```\n",
    "\n",
    "Lad os sige, at du ved, at du ofte vil skulle bruge en linje beskrevet ved `a = 3` og `b = 2`.  Du er træt af at skulle skrive `f 3 2 30` hele tiden, og der er en vis risiko for fejl.  Men heldigvis kender du til currying, så du definerer nemt en ny funktion ud fra den gamle:"
   ]
  },
  {
   "cell_type": "code",
   "execution_count": 286,
   "metadata": {
    "collapsed": true
   },
   "outputs": [],
   "source": [
    "let f3og2 = f 3 2 "
   ]
  },
  {
   "cell_type": "markdown",
   "metadata": {},
   "source": [
    "Signaturen for f3og2 viser, at vi har defineret en ny funktion, der tager en enkelt integer som parameter, og at resultatet er en integer.  \n",
    "\n",
    "```\n",
    "val f3og2 : (int -> int)\n",
    "```\n",
    "\n",
    "Den nye funktion benyttes på normal vis.  De følgende to udtryk er ækvivalente:"
   ]
  },
  {
   "cell_type": "code",
   "execution_count": 287,
   "metadata": {
    "collapsed": false
   },
   "outputs": [
    {
     "data": {
      "text/plain": [
       "63"
      ]
     },
     "execution_count": 287,
     "metadata": {},
     "output_type": "execute_result"
    }
   ],
   "source": [
    "f 3 2 30"
   ]
  },
  {
   "cell_type": "code",
   "execution_count": 288,
   "metadata": {
    "collapsed": false
   },
   "outputs": [
    {
     "data": {
      "text/plain": [
       "63"
      ]
     },
     "execution_count": 288,
     "metadata": {},
     "output_type": "execute_result"
    }
   ],
   "source": [
    "f3og2 30"
   ]
  },
  {
   "cell_type": "markdown",
   "metadata": {},
   "source": [
    "## Lister ##\n",
    "Du kan lave lister af data ved at bruge [ og ]:"
   ]
  },
  {
   "cell_type": "code",
   "execution_count": 289,
   "metadata": {
    "collapsed": false
   },
   "outputs": [],
   "source": [
    "let heste = [\n",
    "    frigga;\n",
    "    { Navn = \"Titus\"; Farve = \"Palomino\"; Race = \"Islænder\"; Højde = 140.0; };\n",
    "    { Navn = \"Meldur\"; Farve = \"Blak\"; Race = \"Islænder\"; Højde = 143.0; };\n",
    "    { Navn = \"Storbrunhest\"; Farve = \"Brun\"; Race = \"Dansk Varmblod\"; Højde = 175.0; };\n",
    "    { Navn = \"Lillebror\"; Farve = \"Brun\"; Race = \"Shetlandspony\"; Højde = 175.0; };\n",
    "]"
   ]
  },
  {
   "cell_type": "markdown",
   "metadata": {},
   "source": [
    "Læg mærke til, at hvert element i listen er separareret af et semikolon.  En typisk fejl, når man kommer fra f.eks. C#-verden, er at komme til at bruge komma.\n",
    "\n",
    "En af F#'s styrker er databehandling vha. [`Seq`](https://msdn.microsoft.com/en-us/visualfsharpdocs/conceptual/collections.seq-module-%5Bfsharp%5D?f=255&MSPPError=-2147217396) modulet.  `Seq` modulet i kombination med den såkaldte forward pipe operator ('|>'), gør manipulation med lister meget elegant."
   ]
  },
  {
   "cell_type": "code",
   "execution_count": 290,
   "metadata": {
    "collapsed": false
   },
   "outputs": [
    {
     "data": {
      "text/plain": [
       "Den gennemsnitlige højde for islændere er: 143.000000\r\n"
      ]
     },
     "metadata": {},
     "output_type": "display_data"
    }
   ],
   "source": [
    "let gennemsnitligHøjdeForIslændere =\n",
    "    heste\n",
    "    |> Seq.filter(fun hest -> hest.Race = \"Islænder\")\n",
    "    |> Seq.averageBy(fun hest -> hest.Højde)\n",
    "    \n",
    "printfn \"Den gennemsnitlige højde for islændere er: %f\" gennemsnitligHøjdeForIslændere"
   ]
  },
  {
   "cell_type": "markdown",
   "metadata": {},
   "source": [
    "## Pattern matching ##\n",
    "Et kendetegn ved F# er [pattern matching](https://fsharpforfunandprofit.com/posts/match-expression/). Det nemmeste er vist bare at se et eksempel:"
   ]
  },
  {
   "cell_type": "code",
   "execution_count": 291,
   "metadata": {
    "collapsed": false
   },
   "outputs": [
    {
     "data": {
      "text/plain": [
       "Din hest er nuttet.\r\n"
      ]
     },
     "metadata": {},
     "output_type": "display_data"
    }
   ],
   "source": [
    "let erMinHestNuttet (hest: Hest) =\n",
    "    match hest.Race with\n",
    "    | \"Islænder\" -> printfn(\"Din hest er nuttet.\")\n",
    "    | \"Dansk Varmblod\" -> printfn(\"Din er stor og grim.\")\n",
    "    | _ -> printfn(\"Jeg ved ikke, hvad din hest er.\")\n",
    "    \n",
    "erMinHestNuttet frigga"
   ]
  },
  {
   "cell_type": "markdown",
   "metadata": {},
   "source": [
    "Læg mærke til den sidste linje med underscore.  Dette er default case, så hvis de foregående matches fejler, rammer vi den sidste linje.  I F# skal pattern matching være udtømmende.  Dvs. i ovenstående tilfælde kan vi ikke udelade en default case.  Det betragtes lidt som dårlig stil at bruge default cases.  F.eks. kan man i vores tilfælde angive noget værre sludder for hesterace, så hvordan kan man forbedre det?\n",
    "\n",
    "Lad os prøve med en ny hest record type."
   ]
  },
  {
   "cell_type": "code",
   "execution_count": 292,
   "metadata": {
    "collapsed": true
   },
   "outputs": [],
   "source": [
    "type HesteRace = Islænder | DanskVarmblod | Shetlandspony\n",
    "\n",
    "type Hest2 = {\n",
    "    Navn: string; \n",
    "    Farve: string; \n",
    "    Race: HesteRace; \n",
    "    Højde: float;\n",
    "    }\n",
    "\n",
    "let heste2 = [\n",
    "    { Navn = \"Frigga\"; Farve = \"Skimmel\"; Race = Islænder; Højde = 146.0; };\n",
    "    { Navn = \"Titus\"; Farve = \"Palomino\"; Race = Islænder; Højde = 140.0; };\n",
    "    { Navn = \"Meldur\"; Farve = \"Blak\"; Race = Islænder; Højde = 143.0; };\n",
    "    { Navn = \"Storbrunhest\"; Farve = \"Brun\"; Race = DanskVarmblod; Højde = 175.0; };\n",
    "    { Navn = \"Lillebror\"; Farve = \"Brun\"; Race = Shetlandspony; Højde = 120.0; };\n",
    "]"
   ]
  },
  {
   "cell_type": "markdown",
   "metadata": {},
   "source": [
    "Læg mærke til hvordan vi nu kan vælge mellem en række faste hesteracer.  Typen `HesteRace` er en discriminated union, og i dette simple tilfælde svarer det til en enum i C#.  Discriminated unions kan dog mere end det, men det kommer vi ikke ind på lige nu.\n",
    "\n",
    "Med den nye definition, kan vi lave udtømmende pattern matching på hesterace, og F# vil komme med en fejl, hvis vi har glemt nogen."
   ]
  },
  {
   "cell_type": "code",
   "execution_count": 293,
   "metadata": {
    "collapsed": false
   },
   "outputs": [
    {
     "data": {
      "text/plain": [
       "Din hest er nuttet.\r\n",
       "Din hest er nuttet.\r\n",
       "Din hest er nuttet.\r\n",
       "Din hest er stor og grim.\r\n",
       "Din hest er faktisk ret nuttet.\r\n"
      ]
     },
     "metadata": {},
     "output_type": "display_data"
    }
   ],
   "source": [
    "let erMinHestNuttet (hest: Hest2) =\n",
    "    match hest.Race with\n",
    "    | Islænder -> printfn(\"Din hest er nuttet.\")\n",
    "    | DanskVarmblod -> printfn(\"Din hest er stor og grim.\")\n",
    "    | Shetlandspony -> printfn(\"Din hest er faktisk ret nuttet.\")\n",
    "    \n",
    "heste2 |> Seq.iter(fun hest -> hest |> erMinHestNuttet)\n"
   ]
  },
  {
   "cell_type": "markdown",
   "metadata": {},
   "source": [
    "### Matching med guards ###\n",
    "Guards gør det muligt at lægge ekstra kriterier på matches."
   ]
  },
  {
   "cell_type": "code",
   "execution_count": 294,
   "metadata": {
    "collapsed": false
   },
   "outputs": [
    {
     "name": "stderr",
     "output_type": "stream",
     "text": [
      "Incomplete pattern matches on this expression."
     ]
    },
    {
     "data": {
      "text/plain": [
       "Din hest er en hest\r\n",
       "Din hest er en hest\r\n",
       "Din hest er en hest\r\n",
       "Din hest er en hest\r\n",
       "Din hest er en pony\r\n"
      ]
     },
     "metadata": {},
     "output_type": "display_data"
    }
   ],
   "source": [
    "let hestEllerPony (hest: Hest2) =\n",
    "    match hest with\n",
    "    | h when h.Race = Islænder -> printfn \"Din hest er en hest\"\n",
    "    | h when h.Højde >= 148.0 -> printfn \"Din hest er en hest\" // Kald aldrig en islænder for 'pony'.\n",
    "    | h when h.Højde < 148.0 -> printfn \"Din hest er en pony\"\n",
    "\n",
    "heste2 |> Seq.iter(fun hest -> hest |> hestEllerPony)\n"
   ]
  },
  {
   "cell_type": "markdown",
   "metadata": {},
   "source": [
    "> Læg mærke til at der kommer en advarsel, der siger, at dit pattern matching er incomplete. Når man bruger guards, kan F# ikke altid finde ud af det, og så giver den advarsler."
   ]
  },
  {
   "cell_type": "markdown",
   "metadata": {},
   "source": [
    "### Active patterns ###\n",
    "Hvad hvis du har brug for at klassificere heste som hest eller pony andre steder?  Det vil være træls at skulle kopiere koden igen og igen.  I det tilfælde kan [active patterns](https://fsharpforfunandprofit.com/posts/convenience-active-patterns/) være løsningen.  Et active pattern er en indkapsling af pattern matching i en særlig type funktion, som bliver kaldt implicit, når man laver pattern matching."
   ]
  },
  {
   "cell_type": "code",
   "execution_count": 295,
   "metadata": {
    "collapsed": false
   },
   "outputs": [
    {
     "name": "stderr",
     "output_type": "stream",
     "text": [
      "Incomplete pattern matches on this expression."
     ]
    },
    {
     "data": {
      "text/plain": [
       "Din hest er en hest\r\n",
       "Din hest er en hest\r\n",
       "Din hest er en hest\r\n",
       "Din hest er en hest\r\n",
       "Din hest er en pony\r\n"
      ]
     },
     "metadata": {},
     "output_type": "display_data"
    }
   ],
   "source": [
    "let (|Hest|Pony|) (hest: Hest2) =\n",
    "    match hest with\n",
    "    | h when h.Race = Islænder -> Hest\n",
    "    | h when h.Højde >= 148.0 -> Hest\n",
    "    | h when h.Højde < 148.0 -> Pony\n",
    "\n",
    "let hestEllerPonyMedActivePattern (hest: Hest2) =\n",
    "    match hest with\n",
    "    | Hest -> printfn \"Din hest er en hest\"\n",
    "    | Pony -> printfn \"Din hest er en pony\"\n",
    "    \n",
    "heste2 |> Seq.iter(fun hest -> hest |> hestEllerPonyMedActivePattern)\n"
   ]
  },
  {
   "cell_type": "markdown",
   "metadata": {},
   "source": [
    "# Anvendt F# #\n",
    "## Brug af NuGet pakker\n",
    "NuGet er en såkaldt package manager.  Hvis en klog udvikler ude i verden laver noget smart funktionalitet, som han eller hun tænker, at andre kan have glæde af, kan vedkommende vælge at gøre det offentligt tilgængeligt igennem NuGet, så andre kan downloade og bruge det i deres kode.  F.eks. findes der NuGet pakker, som kan indlæse CSV filer, lave grafer, og AT har sågar sine egne NuGet pakker, som kan regne cash flows, passiver eller nutidsværdier.\n",
    "\n",
    "NuGet er indbygget i VS, men for at du kan bruge det i .fsx filer, skal du downloade og installere nuget.exe.  Det kan du gøre fra nuget.org: https://dist.nuget.org/win-x86-commandline/latest/nuget.exe.\n",
    "\n",
    "Læg nuget.exe et sted på din harddisk, hvor du nemt kan få fat i den.  Det er en god idé at tilføje den til computeren environment PATH, så du altid nemt kan kalde nuget.exe.\n",
    "\n",
    "## Indlæse CSV filer ##\n",
    "Indlæsning af CSV filer er ret nemt i F#.  Først skal du definere en såkaldt type provider ved f.eks. at angive stien til et eksempel på den CSV fil, der skal indlæses.  F# bruger eksemplet til at fastlægge formatet på filen.  Dernæst skal du indlæse selve filen.\n",
    "\n",
    "Funktionaliteten til at indlæse CSV filer ligger i en NuGet pakke med navnet \"FSharp.Data\", som du først skal downloade og installere.\n",
    "\n",
    "1. Tryk \"Windows+R\".\n",
    "1. Skriv \"cmd /f:on\" og tryk enter.\n",
    "1. Brug cd til at gå til den folder, hvor din .fsx fil ligger.\n",
    "1. Skriv \n",
    "```\n",
    "nuget install FSharp.Data\n",
    "``` \n",
    "og tryk enter.  Dette vil downloade og installere NuGet pakken.\n",
    "1. Åbn .fsx filen i VS.\n",
    "1. Referer til FSharp.Data.dll filen med følgende linjer:\n",
    "```Fsharp\n",
    "#r @\"FSharp.Data.2.3.3\\lib\\net40\\FSharp.Data.dll\"\n",
    "open FSharp.Data\n",
    "```\n",
    "\n",
    "Du er nu klar til at lave en CSV type provider og indlæse en CSV fil.  Lad os prøve med en af de berømte TOT-filer for AIA."
   ]
  },
  {
   "cell_type": "code",
   "execution_count": 296,
   "metadata": {
    "collapsed": false,
    "scrolled": true
   },
   "outputs": [
    {
     "data": {
      "text/plain": [
       "Antal rækker: 13695\r\n",
       "Antal policer: 2467\r\n",
       "0098379: 590251.700000\r\n",
       "0184530: 184391.450000\r\n",
       "0098391: 16202.260000\r\n",
       "0184450: 186927.730000\r\n",
       "0098365: 293490.820000\r\n",
       "0112587: 333914.610000\r\n",
       "0101476: 858816.610000\r\n",
       "0112591: 134065.980000\r\n",
       "0184425: 52252.790000\r\n",
       "0144954: 22519.520000\r\n"
      ]
     },
     "metadata": {},
     "output_type": "display_data"
    }
   ],
   "source": [
    "#r @\"FSharp.Data.2.3.3\\lib\\net40\\FSharp.Data.dll\"\n",
    "open FSharp.Data\n",
    "\n",
    "// Lav type provider med en sti til en eksempel-fil.\n",
    "type TotFilProvider = CsvProvider< \n",
    "                        @\"H:\\AT-Analyse\\17. Datagrundlag\\04. ALM AIA TOT filer\\AIATOT201704_KUN_77777701.csv\", // Eksempel-fil\n",
    "                        Separators = \";\", // Brug semikolon som separator\n",
    "                        Schema = \"Foddat=string, md=string, po=string, medfor=string, AIA=string\", // Specificer udvalgte kolonner som string\n",
    "                        Culture = \"da-DK\", // Brug dansk så beløb fortolkes med komme som decimal separator\n",
    "                        HasHeaders = true // Første linje er overskrifter\n",
    "                        >\n",
    "                        \n",
    "// Indlæs filen\n",
    "let totFilRækker = TotFilProvider.Load(@\"H:\\AT-Analyse\\17. Datagrundlag\\04. ALM AIA TOT filer\\AIATOT201704_KUN_77777701.csv\").Rows\n",
    "\n",
    "// Brug Seq til at gøre ting med de indlæste rækker.\n",
    "printfn \"Antal rækker: %d\" (totFilRækker |> Seq.length)\n",
    "\n",
    "let grupperetPrPolice = \n",
    "    totFilRækker\n",
    "    |> Seq.groupBy(fun række -> række.AIA) // Læg mærke til, hvordan kolonnenavne bliver til properties.\n",
    "\n",
    "printfn \"Antal policer: %d\" (grupperetPrPolice |> Seq.length)\n",
    "\n",
    "// Lav en liste med samlet reserve pr. police.\n",
    "let reservePrPolice =\n",
    "    grupperetPrPolice\n",
    "    |> Seq.map(fun (policenummer, rækker) -> (policenummer, rækker |> Seq.sumBy(fun række -> række.``Prm-reserves``)))\n",
    "\n",
    "// Print de 10 første ud.\n",
    "reservePrPolice\n",
    "|> Seq.take(10)\n",
    "|> Seq.iter(fun (policenummer, sumReserve) -> printfn \"%s: %f\" policenummer sumReserve)\n"
   ]
  },
  {
   "cell_type": "markdown",
   "metadata": {},
   "source": [
    "## Indlæse fra en database ##\n",
    "Der er flere forskellige måder at indlæse data fra en database.  F.eks. er der [SQL Provider](http://fsprojects.github.io/SQLProvider/index.html), som kan en masse smarte ting.  Hvis du bare har brug for at eksekvere noget SQL mod datavarehuset, er det min holdning, at god gammeldags SQL er at foretrække.  Til det skal du bruge nogle typer, som allerede er indbygget i .NET.  Klasserne befinder sig i namespace `System.Data` og `System.Data.SqlClient`, så dem skal du huske at inkludere øverst.\n",
    "\n",
    "Du skal igennem følgende skridt for at læse fra en database.\n",
    "1. Lav en forbindelse til databasen med [`SqlConnection`](https://docs.microsoft.com/en-us/dotnet/api/system.data.sqlclient.sqlconnection?view=netframework-4.7).\n",
    "1. Angiv SQL'en og eventuelle parametre med [`SqlCommand`](https://docs.microsoft.com/en-us/dotnet/api/system.data.sqlclient.sqlcommand?view=netframework-4.7).\n",
    "1. Indlæs data med en reader.\n",
    "1. Luk forbindelsen til databasen.\n",
    "\n",
    "Alt i alt kommer det til at se således ud for at læse de første 10 policer fra datavarehuset, der pt. har policestatus \"Ikraft\":"
   ]
  },
  {
   "cell_type": "code",
   "execution_count": 297,
   "metadata": {
    "collapsed": false
   },
   "outputs": [
    {
     "data": {
      "text/plain": [
       "511580204 G82\r\n",
       "702801901 G82\r\n",
       "101781001 G82\r\n",
       "106580901 G82\r\n",
       "1407662001 G82\r\n",
       "1407662004 G82\r\n",
       "1407662005 G82\r\n",
       "2604691301 G82\r\n",
       "1412590403 G82\r\n",
       "2209691002 G82\r\n"
      ]
     },
     "metadata": {},
     "output_type": "display_data"
    }
   ],
   "source": [
    "open System.Data\n",
    "open System.Data.SqlClient\n",
    "\n",
    "// Lav record type til at holde data.\n",
    "type Police = {\n",
    "    PoliceNummer: string;\n",
    "    System: string;\n",
    "}\n",
    "\n",
    "let getPolicer () = seq { \n",
    "    // Lav forbindelse til datavarehuset med en connection string.\n",
    "    // Brug use så forbindelsen automatisk lukkes.\n",
    "    use cn = new SqlConnection(\"Data Source=dwprod; Initial Catalog=AP_DataMart_APAnsatte; Integrated Security=True;\")\n",
    "\n",
    "    // Angiv SQL og parametre.\n",
    "    use cmd = new SqlCommand(\"SELECT TOP (10) PoliceNummer, System FROM Dimensions.Police WHERE PoliceStatus = @policeStatus\", cn)  \n",
    "    cmd.Parameters.Add(\"@policeStatus\", SqlDbType.NVarChar, 20).Value <- \"Ikraft\"\n",
    "\n",
    "    // Åbn forbindelse.\n",
    "    cn.Open()\n",
    "\n",
    "    // Lav en reader og indlæs.\n",
    "    use reader = cmd.ExecuteReader()\n",
    "    while reader.Read() do\n",
    "        yield { PoliceNummer = string (reader.[\"PoliceNummer\"]);\n",
    "            System = string (reader.[\"System\"]) } \n",
    "    } \n",
    "\n",
    "getPolicer () |> Seq.iter(fun p -> printfn \"%s %s\" p.PoliceNummer p.System)\n"
   ]
  },
  {
   "cell_type": "markdown",
   "metadata": {},
   "source": [
    "Læg mærke til brugen af `seq` og `yield` til at lave en sequence \"on the fly\" ud fra de rækker, der indlæses en ad gangen fra dattavarehuset."
   ]
  },
  {
   "cell_type": "markdown",
   "metadata": {},
   "source": [
    "## Grafer ##\n",
    "Der findes flere forskellige graf-komponenter, som man kan hente fra NuGet.  En af dem hedder [FSharp.Charting](https://fslab.org/FSharp.Charting/index.html).  Start med at installere pakken fra en cmd prompt:\n",
    " ```\n",
    "nuget install FSharp.Charting -Version 0.90.14\n",
    " ```\n",
    "Lav en reference i din .fsx fil. Med FSharp.Charting kan du vælge enten refere til en .dll, eller direkte til en anden .fsx fil:\n",
    "```Fsharp\n",
    "#load \"FSharp.Charting.0.90.14\\FSharp.Charting.fsx\"\n",
    "open FSharp.Charting\n",
    "```\n",
    "\n",
    "Prøv at lave en hurtig graf med en såkaldt sequence expression.  Men en sequence expression kan du lave lister eller sekvenser med en ekspression.\n",
    "```Fsharp\n",
    "Chart.Line [ for x in 0 .. 10 -> x, x*x ]\n",
    "```\n",
    "Når du kører koden, vil der popppe et vindue op med grafen.\n",
    "\n",
    "Lad os prøve noget mere interessant, nemlig at lave et histogram over aldersfordelingen i AIA TOT filen på 5-årsintervaller."
   ]
  },
  {
   "cell_type": "code",
   "execution_count": 298,
   "metadata": {
    "collapsed": false
   },
   "outputs": [
    {
     "data": {
      "text/plain": [
       "seq [(25, 2); (30, 13); (35, 36); (40, 97); ...]"
      ]
     },
     "execution_count": 298,
     "metadata": {},
     "output_type": "execute_result"
    }
   ],
   "source": [
    "// Grupper policer efter alder i 5-års intervaller og tæl op i hvert interval.\n",
    "let grupperetPrAlder =\n",
    "    grupperetPrPolice\n",
    "    |> Seq.groupBy(fun (policenummer, grundformer) -> (grundformer |> Seq.head).Ald / 100 / 5)\n",
    "    |> Seq.map(fun (interval, rækker) -> (5 * interval, rækker |> Seq.length))\n",
    "    |> Seq.sortBy(fun (alder, antal) -> alder)\n",
    "\n",
    "grupperetPrAlder"
   ]
  },
  {
   "cell_type": "markdown",
   "metadata": {},
   "source": [
    "Og til sidst kan du vise et søjlediagram:\n",
    "```Fsharp\n",
    "grupperetPrAlder |> Chart.Column\n",
    "```\n",
    "![Aldersinterval AIA TOT](files/Images/vs-fsharp-aldersinterval.PNG)"
   ]
  },
  {
   "cell_type": "markdown",
   "metadata": {},
   "source": [
    "## Gemme filer ##\n",
    "Der er flere måder at gemme filer på med F#.  Måske den mest fleksible måde er at bruge [`StreamWriter`](https://docs.microsoft.com/es-es/dotnet/api/system.io.streamwriter?view=netframework-4.7), som er en del af standard .NET framework.  Med `StreamWriter` kan man oprette eller åbne en eksisterende fil, skrive til den en linje ad gangen, og lukke den igen.  For lukke en fil automatisk efter brug i F#, kan man bruge `use`.  Lad os lave en funktion til at udskrive listen af heste.  Som det først skal du huske at inkludere namespace `System.IO`, hvor `StreamWriter` bor."
   ]
  },
  {
   "cell_type": "code",
   "execution_count": 301,
   "metadata": {
    "collapsed": false
   },
   "outputs": [],
   "source": [
    "open System\n",
    "open System.IO\n",
    "\n",
    "let gemHeste (filnavn: string) (heste: Hest2 seq) =\n",
    "    use writer = new StreamWriter(filnavn)\n",
    "    // Skriv header til filen.\n",
    "    writer.WriteLine(\"Navn;Farve;Race;Højde\")\n",
    "    // Skriv heste til filen.\n",
    "    heste \n",
    "    |> Seq.iter(fun hest -> writer.WriteLine(String.Join(\";\", hest.Navn, hest.Farve, hest.Race, hest.Højde)))\n"
   ]
  },
  {
   "cell_type": "markdown",
   "metadata": {},
   "source": [
    "Funktionen tager et filnavn og en sekvens af heste som parametre.  Da hestene er sidste parameter, kan man bruge den særlige forward pipe operator:"
   ]
  },
  {
   "cell_type": "code",
   "execution_count": 302,
   "metadata": {
    "collapsed": true
   },
   "outputs": [],
   "source": [
    "heste2 |> gemHeste @\"c:\\temp\\heste.csv\""
   ]
  },
  {
   "cell_type": "markdown",
   "metadata": {},
   "source": [
    "Filen indeholder nu følgende tekst:\n",
    "![Heste](files/Images/vs-fsharp-heste.PNG)"
   ]
  }
 ],
 "metadata": {
  "celltoolbar": "Raw Cell Format",
  "kernelspec": {
   "display_name": "F#",
   "language": "fsharp",
   "name": "ifsharp"
  },
  "language": "fsharp",
  "language_info": {
   "codemirror_mode": "",
   "file_extension": ".fs",
   "mimetype": "text/x-fsharp",
   "name": "fsharp",
   "nbconvert_exporter": "",
   "pygments_lexer": "",
   "version": "4.3.1.0"
  }
 },
 "nbformat": 4,
 "nbformat_minor": 2
}
